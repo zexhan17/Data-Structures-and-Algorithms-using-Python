{
 "metadata": {
  "language_info": {
   "codemirror_mode": {
    "name": "ipython",
    "version": 3
   },
   "file_extension": ".py",
   "mimetype": "text/x-python",
   "name": "python",
   "nbconvert_exporter": "python",
   "pygments_lexer": "ipython3",
   "version": "3.8.5-final"
  },
  "orig_nbformat": 2,
  "kernelspec": {
   "name": "python3",
   "display_name": "Python 3",
   "language": "python"
  }
 },
 "nbformat": 4,
 "nbformat_minor": 2,
 "cells": [
  {
   "cell_type": "code",
   "execution_count": 1,
   "metadata": {},
   "outputs": [],
   "source": [
    "class Queue:\n",
    "    def __init__(self):\n",
    "        self.size = 5\n",
    "        self.q = list(range(self.size)) # some dummy values\n",
    "        self.i = 0\n",
    "        self.o = 0\n",
    "\n",
    "        self.is_empty = True\n",
    "        self.is_full = False"
   ]
  },
  {
   "cell_type": "code",
   "execution_count": 4,
   "metadata": {},
   "outputs": [],
   "source": [
    "def _inc(self, idx):\n",
    "    if idx + 1 == self.size:\n",
    "        return 0\n",
    "    else:\n",
    "        return idx +1\n",
    "Queue._inc = _inc"
   ]
  },
  {
   "cell_type": "code",
   "execution_count": 6,
   "metadata": {},
   "outputs": [],
   "source": [
    "def enqueue(self, val):\n",
    "    if self.is_full:\n",
    "        raise IndexError(\" Queue full. cannot enqueue.\")\n",
    "    self.q[self.i] = val\n",
    "    self.i = self._inc(self.i)\n",
    "\n",
    "    if self.i == self.o:\n",
    "        self.is_full = True\n",
    "    self.is_empty = False\n",
    "Queue.enqueue = enqueue"
   ]
  },
  {
   "cell_type": "code",
   "execution_count": 8,
   "metadata": {},
   "outputs": [],
   "source": [
    "def dequeue(self):\n",
    "    if self.is_empty:\n",
    "        raise IndexError(\"Queue empty. Cannot dequeue.\")\n",
    "\n",
    "    ret = self.q[self.o]\n",
    "    self.o = self._inc(self.o)\n",
    "\n",
    "    if self.i == self.o:\n",
    "        self.is_empty = True\n",
    "    \n",
    "    self.is_full = False\n",
    "    return ret\n",
    "Queue.dequeue = dequeue"
   ]
  },
  {
   "cell_type": "code",
   "execution_count": 9,
   "metadata": {},
   "outputs": [],
   "source": [
    "def __str__(self):\n",
    "    return str(self.q) + \" , in: \" + str(self.i) + \", out: \" + str(self.o)\n",
    "\n",
    "Queue.__str__ = __str__"
   ]
  },
  {
   "cell_type": "code",
   "execution_count": 12,
   "metadata": {},
   "outputs": [
    {
     "output_type": "stream",
     "name": "stdout",
     "text": [
      "[10, 20, 30, 40, 50] , in: 0, out: 0\n10\n[110, 20, 30, 40, 50] , in: 1, out: 1\n20\n30\n40\n50\n110\n[110, 20, 30, 40, 50] , in: 1, out: 1\n"
     ]
    }
   ],
   "source": [
    "q = Queue()\n",
    "q.enqueue(10)\n",
    "q.enqueue(20)\n",
    "q.enqueue(30)\n",
    "q.enqueue(40)\n",
    "q.enqueue(50)\n",
    "# q.enqueue(35)\n",
    "\n",
    "print(q)\n",
    "\n",
    "print(q.dequeue())\n",
    "q.enqueue(110)\n",
    "print(q)\n",
    "\n",
    "print(q.dequeue())\n",
    "print(q.dequeue())\n",
    "print(q.dequeue())\n",
    "print(q.dequeue())\n",
    "print(q.dequeue())\n",
    "#print(q.dequeue())\n",
    "\n",
    "print(q)"
   ]
  },
  {
   "cell_type": "code",
   "execution_count": null,
   "metadata": {},
   "outputs": [],
   "source": []
  }
 ]
}