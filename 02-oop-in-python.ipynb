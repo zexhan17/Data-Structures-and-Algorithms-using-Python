{
 "cells": [
  {
   "cell_type": "markdown",
   "metadata": {},
   "source": [
    "\n",
    "OOP Concepts in Python\n",
    "\n",
    "Creating a class with a constructor is simple with a minor difference: self\n",
    "\n",
    "To access member variables and methods, you must always use self. This is not optional as in other languages.\n"
   ]
  },
  {
   "cell_type": "code",
   "execution_count": null,
   "metadata": {},
   "outputs": [],
   "source": [
    "class Point:\n",
    "    # constructors are defined using a special method, which must be named __init__ \n",
    "    \n",
    "    def __init__(self, x=0, y=0): \n",
    "        self.x = x\n",
    "        self.y = y \n",
    "        \n",
    "    # def __str__(self): \n",
    "    #    return \"[\" + str(self.x) + \",\" + str(self.y) + \"]\""
   ]
  },
  {
   "cell_type": "code",
   "execution_count": null,
   "metadata": {},
   "outputs": [],
   "source": [
    "p1 = Point()\n",
    "print(\"p1 = \", p1.x)\n",
    "# print(\"p1 = \", p1)\n",
    "\n",
    "\n",
    "p2 = Point(2, 4)    # notice that we do NOT pass in self. That is automatically done for us! \n",
    "\n",
    "\n",
    "print(\"p2 = \", p2.x)\n",
    "# print(\"p2 = \", p2)"
   ]
  },
  {
   "cell_type": "markdown",
   "metadata": {},
   "source": [
    "\n",
    "Composition\n",
    "\n",
    "Composition is simple as always.\n"
   ]
  },
  {
   "cell_type": "code",
   "execution_count": null,
   "metadata": {},
   "outputs": [],
   "source": [
    "class Shape: \n",
    "    def __init__(self, points): \n",
    "        self.points = points"
   ]
  },
  {
   "cell_type": "code",
   "execution_count": null,
   "metadata": {},
   "outputs": [],
   "source": [
    "p1 = Point(5, 5) \n",
    "p2 = Point(10, 5) \n",
    "p3 = Point(5, 10) \n",
    "p = [p1, p2, p3]\n",
    "\n",
    "sh = Shape(p)"
   ]
  },
  {
   "cell_type": "markdown",
   "metadata": {},
   "source": [
    "We can add methods to class even after it has been defined!"
   ]
  },
  {
   "cell_type": "code",
   "execution_count": null,
   "metadata": {},
   "outputs": [],
   "source": [
    "def print_points(self): \n",
    "    for i in self.points: \n",
    "        print(i) \n",
    "        \n",
    "Shape.print_points = print_points"
   ]
  },
  {
   "cell_type": "code",
   "execution_count": null,
   "metadata": {},
   "outputs": [],
   "source": [
    "sh.print_points()"
   ]
  },
  {
   "cell_type": "markdown",
   "metadata": {},
   "source": [
    "\n",
    "Inheritance\n",
    "\n",
    "Inhertiance syntax is also slightly different but quite easy.\n"
   ]
  },
  {
   "cell_type": "code",
   "execution_count": null,
   "metadata": {},
   "outputs": [],
   "source": [
    "class Triangle(Shape):    # Triangle inhertis from Shape \n",
    "    pass    # pass means I'm not going to have anything in this block \n"
   ]
  },
  {
   "cell_type": "code",
   "execution_count": null,
   "metadata": {},
   "outputs": [],
   "source": [
    "t = Triangle(p)"
   ]
  },
  {
   "cell_type": "code",
   "execution_count": null,
   "metadata": {},
   "outputs": [],
   "source": [
    "t.print_points()   # automatically inherited"
   ]
  },
  {
   "cell_type": "code",
   "execution_count": null,
   "metadata": {},
   "outputs": [],
   "source": [
    "def get_area(self): \n",
    "    vertices = self.points\n",
    "    n = len(vertices) # of corners\n",
    "    a = 0.0\n",
    "    for i in range(n):\n",
    "        j = (i + 1) % n\n",
    "        a += abs(vertices[i].x * vertices[j].y - vertices[j].x * vertices[i].y)\n",
    "    return a / 2.0\n",
    "\n",
    "Triangle.get_area = get_area"
   ]
  },
  {
   "cell_type": "code",
   "execution_count": null,
   "metadata": {},
   "outputs": [],
   "source": [
    "t.get_area()"
   ]
  },
  {
   "cell_type": "markdown",
   "metadata": {},
   "source": [
    "Access Parent Class' Overridden Methods"
   ]
  },
  {
   "cell_type": "code",
   "execution_count": null,
   "metadata": {},
   "outputs": [],
   "source": [
    "class Rectangle:\n",
    "    def __init__(self, length, width):\n",
    "        self.length = length\n",
    "        self.width = width\n",
    "\n",
    "    def area(self):\n",
    "        return self.length * self.width\n",
    "\n",
    "    def perimeter(self):\n",
    "        return 2 * self.length + 2 * self.width\n",
    "\n",
    "    def __str__(self): \n",
    "        return \"L: \" + str(self.length) + \" W: \" + str(self.width)"
   ]
  },
  {
   "cell_type": "code",
   "execution_count": null,
   "metadata": {},
   "outputs": [],
   "source": [
    "rect = Rectangle(2, 4) \n",
    "print(rect)"
   ]
  },
  {
   "cell_type": "code",
   "execution_count": null,
   "metadata": {},
   "outputs": [],
   "source": [
    "# Here we declare that the Square class inherits from the Rectangle class\n",
    "class Square(Rectangle):\n",
    "    def __init__(self, length):\n",
    "        super().__init__(length, length)\n",
    "        \n",
    "    def __str__(self): \n",
    "        return \"Square: \" + super().__str__()"
   ]
  },
  {
   "cell_type": "code",
   "execution_count": null,
   "metadata": {},
   "outputs": [],
   "source": [
    "square = Square(4)\n",
    "square.area()"
   ]
  },
  {
   "cell_type": "code",
   "execution_count": null,
   "metadata": {},
   "outputs": [],
   "source": [
    "print(square)"
   ]
  },
  {
   "cell_type": "markdown",
   "metadata": {},
   "source": [
    "\n",
    "Polymorphism\n",
    "\n",
    "You get that for free in Python. Just call the method. If it's overridden, the child class' method will be executed.\n"
   ]
  },
  {
   "cell_type": "markdown",
   "metadata": {},
   "source": [
    "\n",
    "Access Modifiers\n",
    "\n",
    "There are none. By convention, methods starting with _ are considered private and shouldn't be called from the outside. If you still want to do it, the response is, \"good luck!\".\n"
   ]
  }
 ],
 "metadata": {
  "kernelspec": {
   "display_name": "Python 3",
   "language": "python",
   "name": "python3"
  },
  "language_info": {
   "codemirror_mode": {
    "name": "ipython",
    "version": 3
   },
   "file_extension": ".py",
   "mimetype": "text/x-python",
   "name": "python",
   "nbconvert_exporter": "python",
   "pygments_lexer": "ipython3",
   "version": "3.8.5"
  }
 },
 "nbformat": 4,
 "nbformat_minor": 4
}
