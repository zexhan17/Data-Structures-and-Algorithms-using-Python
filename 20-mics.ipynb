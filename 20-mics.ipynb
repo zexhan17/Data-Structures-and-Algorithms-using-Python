{
 "cells": [
  {
   "cell_type": "markdown",
   "metadata": {},
   "source": [
    "# OS Walk"
   ]
  },
  {
   "cell_type": "code",
   "execution_count": 1,
   "metadata": {},
   "outputs": [],
   "source": [
    "import glob\n",
    "import os"
   ]
  },
  {
   "cell_type": "code",
   "execution_count": 2,
   "metadata": {},
   "outputs": [
    {
     "name": "stdout",
     "output_type": "stream",
     "text": [
      "C:\\Users\\coder\\Desktop\\Data_strcuture_using_python\n"
     ]
    }
   ],
   "source": [
    "print(os.getcwd())"
   ]
  },
  {
   "cell_type": "code",
   "execution_count": 3,
   "metadata": {},
   "outputs": [
    {
     "ename": "FileNotFoundError",
     "evalue": "[WinError 2] The system cannot find the file specified: 'os-test'",
     "output_type": "error",
     "traceback": [
      "\u001b[1;31m---------------------------------------------------------------------------\u001b[0m",
      "\u001b[1;31mFileNotFoundError\u001b[0m                         Traceback (most recent call last)",
      "\u001b[1;32m<ipython-input-3-59781aea4e97>\u001b[0m in \u001b[0;36m<module>\u001b[1;34m\u001b[0m\n\u001b[1;32m----> 1\u001b[1;33m \u001b[0mos\u001b[0m\u001b[1;33m.\u001b[0m\u001b[0mchdir\u001b[0m\u001b[1;33m(\u001b[0m\u001b[1;34m'os-test'\u001b[0m\u001b[1;33m)\u001b[0m\u001b[1;33m\u001b[0m\u001b[1;33m\u001b[0m\u001b[0m\n\u001b[0m",
      "\u001b[1;31mFileNotFoundError\u001b[0m: [WinError 2] The system cannot find the file specified: 'os-test'"
     ]
    }
   ],
   "source": [
    "os.chdir('os-test')"
   ]
  },
  {
   "cell_type": "code",
   "execution_count": 4,
   "metadata": {},
   "outputs": [
    {
     "name": "stdout",
     "output_type": "stream",
     "text": [
      "C:\\Users\\coder\\Desktop\\Data_strcuture_using_python\n"
     ]
    }
   ],
   "source": [
    "print(os.getcwd())"
   ]
  },
  {
   "cell_type": "code",
   "execution_count": 5,
   "metadata": {},
   "outputs": [
    {
     "data": {
      "text/plain": [
       "['.ipynb_checkpoints',\n",
       " '.vscode',\n",
       " '01-Python-Refresher.ipynb',\n",
       " '02-oop-in-python.ipynb',\n",
       " '03-order-of-growth.ipynb',\n",
       " '04-Linked-list.ipynb',\n",
       " '05-Doubly-Linked-list.ipynb',\n",
       " '06-circular-linked-list.ipynb',\n",
       " '07-stack.ipynb',\n",
       " '08-Queue.ipynb',\n",
       " '09-set-counter.ipynb',\n",
       " '10-recursion.ipynb',\n",
       " '11-problem-solving.ipynb',\n",
       " '12-Tree-Node.ipynb',\n",
       " '13-binary-search-tree.ipynb',\n",
       " '14-Heap.ipynb',\n",
       " '15-Sorts.ipynb',\n",
       " '16-hashmap.ipynb',\n",
       " '18-graphs.ipynb',\n",
       " '19-mics.ipynb']"
      ]
     },
     "execution_count": 5,
     "metadata": {},
     "output_type": "execute_result"
    }
   ],
   "source": [
    "os.listdir()"
   ]
  },
  {
   "cell_type": "code",
   "execution_count": 6,
   "metadata": {},
   "outputs": [
    {
     "data": {
      "text/plain": [
       "['01-Python-Refresher.ipynb',\n",
       " '02-oop-in-python.ipynb',\n",
       " '03-order-of-growth.ipynb',\n",
       " '04-Linked-list.ipynb',\n",
       " '05-Doubly-Linked-list.ipynb',\n",
       " '06-circular-linked-list.ipynb',\n",
       " '07-stack.ipynb',\n",
       " '08-Queue.ipynb',\n",
       " '09-set-counter.ipynb',\n",
       " '10-recursion.ipynb',\n",
       " '11-problem-solving.ipynb',\n",
       " '12-Tree-Node.ipynb',\n",
       " '13-binary-search-tree.ipynb',\n",
       " '14-Heap.ipynb',\n",
       " '15-Sorts.ipynb',\n",
       " '16-hashmap.ipynb',\n",
       " '18-graphs.ipynb',\n",
       " '19-mics.ipynb']"
      ]
     },
     "execution_count": 6,
     "metadata": {},
     "output_type": "execute_result"
    }
   ],
   "source": [
    "glob.glob('*.*')    # no, that's not a cute cat emoji"
   ]
  },
  {
   "cell_type": "code",
   "execution_count": 7,
   "metadata": {},
   "outputs": [
    {
     "name": "stdout",
     "output_type": "stream",
     "text": [
      "Remaining:  01-Python-Refresher.ipynb  to  tempfile-01-Python-Refresher.ipynb\n",
      "Remaining:  02-oop-in-python.ipynb  to  tempfile-02-oop-in-python.ipynb\n",
      "Remaining:  03-order-of-growth.ipynb  to  tempfile-03-order-of-growth.ipynb\n",
      "Remaining:  04-Linked-list.ipynb  to  tempfile-04-Linked-list.ipynb\n",
      "Remaining:  05-Doubly-Linked-list.ipynb  to  tempfile-05-Doubly-Linked-list.ipynb\n",
      "Remaining:  06-circular-linked-list.ipynb  to  tempfile-06-circular-linked-list.ipynb\n",
      "Remaining:  07-stack.ipynb  to  tempfile-07-stack.ipynb\n",
      "Remaining:  08-Queue.ipynb  to  tempfile-08-Queue.ipynb\n",
      "Remaining:  09-set-counter.ipynb  to  tempfile-09-set-counter.ipynb\n"
     ]
    }
   ],
   "source": [
    "for old_name in glob.glob('0*.*'):\n",
    "    new_name = \"tempfile-\" + old_name\n",
    "    print(\"Remaining: \", old_name, \" to \", new_name)\n",
    "    os.rename(old_name, new_name)"
   ]
  },
  {
   "cell_type": "code",
   "execution_count": 8,
   "metadata": {},
   "outputs": [
    {
     "name": "stdout",
     "output_type": "stream",
     "text": [
      "Running in:  .\n",
      "\n",
      "Running in:  .\\.ipynb_checkpoints\n",
      "\n",
      "Running in:  .\\.vscode\n",
      "\n"
     ]
    }
   ],
   "source": [
    "file_sizes = []\n",
    "\n",
    "for dir_path, dirs, files in os.walk(\".\"):\n",
    "    print(\"Running in: \", dir_path)\n",
    "    \n",
    "    for f in files:\n",
    "        file_full_path = os.path.join(dir_path, f)\n",
    "        file_size = os.path.getsize(file_full_path)\n",
    "        \n",
    "        file_sizes.append((file_full_path, file_size))\n",
    "        \n",
    "    print(\"\")"
   ]
  },
  {
   "cell_type": "code",
   "execution_count": 9,
   "metadata": {},
   "outputs": [
    {
     "name": "stdout",
     "output_type": "stream",
     "text": [
      "[('.\\\\11-problem-solving.ipynb', 14698),\n",
      " ('.\\\\12-Tree-Node.ipynb', 10789),\n",
      " ('.\\\\13-binary-search-tree.ipynb', 13756),\n",
      " ('.\\\\14-Heap.ipynb', 3859),\n",
      " ('.\\\\15-Sorts.ipynb', 13201),\n",
      " ('.\\\\16-hashmap.ipynb', 6589),\n",
      " ('.\\\\Untitled.ipynb', 4012),\n",
      " ('.\\\\.ipynb_checkpoints\\\\11-problem-solving-checkpoint.ipynb', 14698),\n",
      " ('.\\\\.ipynb_checkpoints\\\\12-Tree-Node-checkpoint.ipynb', 10789),\n",
      " ('.\\\\.ipynb_checkpoints\\\\13-binary-search-tree-checkpoint.ipynb', 13756),\n",
      " ('.\\\\.ipynb_checkpoints\\\\14-Heap-checkpoint.ipynb', 3859),\n",
      " ('.\\\\.ipynb_checkpoints\\\\15-Sorts-checkpoint.ipynb', 13201),\n",
      " ('.\\\\.ipynb_checkpoints\\\\16-hashmap-checkpoint.ipynb', 6589),\n",
      " ('.\\\\.ipynb_checkpoints\\\\Untitled-checkpoint.ipynb', 72)]\n"
     ]
    }
   ],
   "source": [
    "import pprint\n",
    "pprint.pprint(file_sizes)"
   ]
  },
  {
   "cell_type": "code",
   "execution_count": 10,
   "metadata": {},
   "outputs": [],
   "source": [
    "file_sizes.sort(key=lambda x: x[1], reverse=True)"
   ]
  },
  {
   "cell_type": "code",
   "execution_count": 11,
   "metadata": {},
   "outputs": [
    {
     "data": {
      "text/plain": [
       "[('.\\\\11-problem-solving.ipynb', 14698),\n",
       " ('.\\\\.ipynb_checkpoints\\\\11-problem-solving-checkpoint.ipynb', 14698),\n",
       " ('.\\\\13-binary-search-tree.ipynb', 13756),\n",
       " ('.\\\\.ipynb_checkpoints\\\\13-binary-search-tree-checkpoint.ipynb', 13756),\n",
       " ('.\\\\15-Sorts.ipynb', 13201),\n",
       " ('.\\\\.ipynb_checkpoints\\\\15-Sorts-checkpoint.ipynb', 13201),\n",
       " ('.\\\\12-Tree-Node.ipynb', 10789),\n",
       " ('.\\\\.ipynb_checkpoints\\\\12-Tree-Node-checkpoint.ipynb', 10789),\n",
       " ('.\\\\16-hashmap.ipynb', 6589),\n",
       " ('.\\\\.ipynb_checkpoints\\\\16-hashmap-checkpoint.ipynb', 6589),\n",
       " ('.\\\\Untitled.ipynb', 4012),\n",
       " ('.\\\\14-Heap.ipynb', 3859),\n",
       " ('.\\\\.ipynb_checkpoints\\\\14-Heap-checkpoint.ipynb', 3859),\n",
       " ('.\\\\.ipynb_checkpoints\\\\Untitled-checkpoint.ipynb', 72)]"
      ]
     },
     "execution_count": 11,
     "metadata": {},
     "output_type": "execute_result"
    }
   ],
   "source": [
    "file_sizes"
   ]
  },
  {
   "cell_type": "code",
   "execution_count": 12,
   "metadata": {},
   "outputs": [],
   "source": [
    "filtered = filter(lambda x: x[1] > 1024*1024, file_sizes) \n",
    "for f in filtered:\n",
    "    print(f)"
   ]
  },
  {
   "cell_type": "markdown",
   "metadata": {},
   "source": [
    "# Cards and Decks"
   ]
  },
  {
   "cell_type": "code",
   "execution_count": 13,
   "metadata": {},
   "outputs": [],
   "source": [
    "class Card:\n",
    "    def __init__(self, suit, val):\n",
    "        self.suit = suit\n",
    "        self.val = val\n",
    "        \n",
    "    def __str__(self):\n",
    "        return str(self.val) + \" of \" + self.suit"
   ]
  },
  {
   "cell_type": "code",
   "execution_count": 14,
   "metadata": {},
   "outputs": [],
   "source": [
    "class Deck:\n",
    "    def __init__(self):\n",
    "        self.cards = []\n",
    "        self.build()\n",
    "        \n",
    "    def build(self):\n",
    "        for s in [\"Spades\",\"Hearts\", \"Diamonds\", \"Clubs\"]:\n",
    "            for v in range(1, 14):\n",
    "                self.cards.append(Card(s, v))\n",
    "        \n",
    "    def __str__(self):\n",
    "        ret = \"\"\n",
    "        for c in self.cards:\n",
    "            ret += str(c) + \"\\n\"\n",
    "        return ret"
   ]
  },
  {
   "cell_type": "code",
   "execution_count": 15,
   "metadata": {},
   "outputs": [],
   "source": [
    "c1 = Card(\"Hearts\", 5)"
   ]
  },
  {
   "cell_type": "code",
   "execution_count": 16,
   "metadata": {},
   "outputs": [
    {
     "name": "stdout",
     "output_type": "stream",
     "text": [
      "5 of Hearts\n"
     ]
    }
   ],
   "source": [
    "print(c1)"
   ]
  },
  {
   "cell_type": "code",
   "execution_count": 17,
   "metadata": {},
   "outputs": [],
   "source": [
    "d = Deck()"
   ]
  },
  {
   "cell_type": "code",
   "execution_count": 18,
   "metadata": {},
   "outputs": [
    {
     "name": "stdout",
     "output_type": "stream",
     "text": [
      "1 of Spades\n",
      "2 of Spades\n",
      "3 of Spades\n",
      "4 of Spades\n",
      "5 of Spades\n",
      "6 of Spades\n",
      "7 of Spades\n",
      "8 of Spades\n",
      "9 of Spades\n",
      "10 of Spades\n",
      "11 of Spades\n",
      "12 of Spades\n",
      "13 of Spades\n",
      "1 of Hearts\n",
      "2 of Hearts\n",
      "3 of Hearts\n",
      "4 of Hearts\n",
      "5 of Hearts\n",
      "6 of Hearts\n",
      "7 of Hearts\n",
      "8 of Hearts\n",
      "9 of Hearts\n",
      "10 of Hearts\n",
      "11 of Hearts\n",
      "12 of Hearts\n",
      "13 of Hearts\n",
      "1 of Diamonds\n",
      "2 of Diamonds\n",
      "3 of Diamonds\n",
      "4 of Diamonds\n",
      "5 of Diamonds\n",
      "6 of Diamonds\n",
      "7 of Diamonds\n",
      "8 of Diamonds\n",
      "9 of Diamonds\n",
      "10 of Diamonds\n",
      "11 of Diamonds\n",
      "12 of Diamonds\n",
      "13 of Diamonds\n",
      "1 of Clubs\n",
      "2 of Clubs\n",
      "3 of Clubs\n",
      "4 of Clubs\n",
      "5 of Clubs\n",
      "6 of Clubs\n",
      "7 of Clubs\n",
      "8 of Clubs\n",
      "9 of Clubs\n",
      "10 of Clubs\n",
      "11 of Clubs\n",
      "12 of Clubs\n",
      "13 of Clubs\n",
      "\n"
     ]
    }
   ],
   "source": [
    "print(d)"
   ]
  },
  {
   "cell_type": "code",
   "execution_count": 19,
   "metadata": {},
   "outputs": [],
   "source": [
    "import random"
   ]
  },
  {
   "cell_type": "code",
   "execution_count": 20,
   "metadata": {},
   "outputs": [],
   "source": [
    "def shuffle(self):\n",
    "    for i in range(0, len(self.cards)):\n",
    "        r = random.randint(0, i)  # find another number\n",
    "        self.cards[i], self.cards[r] = self.cards[r], self.cards[i] # find swao\n",
    "        \n",
    "Deck.shuffle = shuffle"
   ]
  },
  {
   "cell_type": "code",
   "execution_count": 21,
   "metadata": {},
   "outputs": [
    {
     "name": "stdout",
     "output_type": "stream",
     "text": [
      "1 of Clubs\n",
      "1 of Hearts\n",
      "3 of Spades\n",
      "6 of Clubs\n",
      "12 of Spades\n",
      "2 of Hearts\n",
      "9 of Diamonds\n",
      "7 of Spades\n",
      "11 of Hearts\n",
      "8 of Hearts\n",
      "2 of Clubs\n",
      "4 of Diamonds\n",
      "2 of Diamonds\n",
      "13 of Spades\n",
      "9 of Hearts\n",
      "1 of Diamonds\n",
      "8 of Diamonds\n",
      "3 of Clubs\n",
      "7 of Clubs\n",
      "5 of Diamonds\n",
      "11 of Clubs\n",
      "10 of Clubs\n",
      "4 of Spades\n",
      "5 of Clubs\n",
      "9 of Clubs\n",
      "12 of Diamonds\n",
      "10 of Hearts\n",
      "3 of Hearts\n",
      "3 of Diamonds\n",
      "6 of Hearts\n",
      "13 of Diamonds\n",
      "9 of Spades\n",
      "8 of Spades\n",
      "13 of Clubs\n",
      "11 of Diamonds\n",
      "6 of Diamonds\n",
      "6 of Spades\n",
      "1 of Spades\n",
      "2 of Spades\n",
      "4 of Hearts\n",
      "12 of Clubs\n",
      "5 of Spades\n",
      "10 of Spades\n",
      "13 of Hearts\n",
      "10 of Diamonds\n",
      "11 of Spades\n",
      "5 of Hearts\n",
      "4 of Clubs\n",
      "12 of Hearts\n",
      "7 of Diamonds\n",
      "8 of Clubs\n",
      "7 of Hearts\n",
      "\n"
     ]
    }
   ],
   "source": [
    "d.shuffle()\n",
    "print(d)"
   ]
  },
  {
   "cell_type": "code",
   "execution_count": 22,
   "metadata": {},
   "outputs": [],
   "source": [
    "def draw(self):\n",
    "    r = random.randint(0, len(self.cards))\n",
    "    c = self.cards.pop(r)\n",
    "    return c\n",
    "Deck.draw = draw"
   ]
  },
  {
   "cell_type": "code",
   "execution_count": 23,
   "metadata": {},
   "outputs": [],
   "source": [
    "c = d.draw()"
   ]
  },
  {
   "cell_type": "code",
   "execution_count": 24,
   "metadata": {},
   "outputs": [
    {
     "name": "stdout",
     "output_type": "stream",
     "text": [
      "10 of Hearts\n"
     ]
    }
   ],
   "source": [
    "print(c)"
   ]
  },
  {
   "cell_type": "code",
   "execution_count": 25,
   "metadata": {},
   "outputs": [
    {
     "name": "stdout",
     "output_type": "stream",
     "text": [
      "1 of Clubs\n",
      "1 of Hearts\n",
      "3 of Spades\n",
      "6 of Clubs\n",
      "12 of Spades\n",
      "2 of Hearts\n",
      "9 of Diamonds\n",
      "7 of Spades\n",
      "11 of Hearts\n",
      "8 of Hearts\n",
      "2 of Clubs\n",
      "4 of Diamonds\n",
      "2 of Diamonds\n",
      "13 of Spades\n",
      "9 of Hearts\n",
      "1 of Diamonds\n",
      "8 of Diamonds\n",
      "3 of Clubs\n",
      "7 of Clubs\n",
      "5 of Diamonds\n",
      "11 of Clubs\n",
      "10 of Clubs\n",
      "4 of Spades\n",
      "5 of Clubs\n",
      "9 of Clubs\n",
      "12 of Diamonds\n",
      "3 of Hearts\n",
      "3 of Diamonds\n",
      "6 of Hearts\n",
      "13 of Diamonds\n",
      "9 of Spades\n",
      "8 of Spades\n",
      "13 of Clubs\n",
      "11 of Diamonds\n",
      "6 of Diamonds\n",
      "6 of Spades\n",
      "1 of Spades\n",
      "2 of Spades\n",
      "4 of Hearts\n",
      "12 of Clubs\n",
      "5 of Spades\n",
      "10 of Spades\n",
      "13 of Hearts\n",
      "10 of Diamonds\n",
      "11 of Spades\n",
      "5 of Hearts\n",
      "4 of Clubs\n",
      "12 of Hearts\n",
      "7 of Diamonds\n",
      "8 of Clubs\n",
      "7 of Hearts\n",
      "\n"
     ]
    }
   ],
   "source": [
    "print(d)"
   ]
  }
 ],
 "metadata": {
  "kernelspec": {
   "display_name": "Python 3",
   "language": "python",
   "name": "python3"
  },
  "language_info": {
   "codemirror_mode": {
    "name": "ipython",
    "version": 3
   },
   "file_extension": ".py",
   "mimetype": "text/x-python",
   "name": "python",
   "nbconvert_exporter": "python",
   "pygments_lexer": "ipython3",
   "version": "3.8.5"
  }
 },
 "nbformat": 4,
 "nbformat_minor": 4
}
