{
 "cells": [
  {
   "cell_type": "markdown",
   "metadata": {},
   "source": [
    "# Bubble Sort"
   ]
  },
  {
   "cell_type": "code",
   "execution_count": 1,
   "metadata": {},
   "outputs": [],
   "source": [
    "def bubble_sort(l):\n",
    "    n = len(l)\n",
    "    # print(n)\n",
    "    \n",
    "    # Outer loop. Goes over the whole thing 'n' times\n",
    "    # (because each time, one 'highest' will have moved to the end)\n",
    "    \n",
    "    for i in range(n):\n",
    "        swapped = False\n",
    "        \n",
    "        # try to bubble the highest one up\n",
    "        for j in range(0, (n-i)-1):\n",
    "            \n",
    "            # compare pairs, move higher one up (the highest will always reach the end this way!)\n",
    "            if l[j] > l[j+1]:\n",
    "                l[j], l[j+1] = l[j+1], l[j]\n",
    "                swapped = True\n",
    "        if not swapped:\n",
    "            break"
   ]
  },
  {
   "cell_type": "code",
   "execution_count": 2,
   "metadata": {},
   "outputs": [
    {
     "name": "stdout",
     "output_type": "stream",
     "text": [
      "[1, 1, 1, 2, 2, 4, 5, 5, 6, 15, 110]\n"
     ]
    }
   ],
   "source": [
    "l = [1, 2, 4, 1, 2, 5, 5, 6, 1, 110, 15]\n",
    "bubble_sort(l)\n",
    "print(l)"
   ]
  },
  {
   "cell_type": "markdown",
   "metadata": {},
   "source": [
    "# Insertion Sort"
   ]
  },
  {
   "cell_type": "code",
   "execution_count": 3,
   "metadata": {},
   "outputs": [],
   "source": [
    "def insertion_sort(l):\n",
    "    # Go through all elements (except  first).\n",
    "    # Call it 'Key'.\n",
    "    # Each time, the key would be 'inserted' in its place.\n",
    "    # At each iteration, stuff less than i would be sorted already.\n",
    "    \n",
    "    for i in range(1, len(l)):\n",
    "        \n",
    "        key = l[i] # hold this key\n",
    "        \n",
    "        # start comparing keys to things on its left!\n",
    "        # stop when less or equal value found (or we reach left end)\n",
    "        \n",
    "        j =i-1\n",
    "\n",
    "        while j >= 0 and key < l[j]:\n",
    "            l[j+1] = l[j] # move this to right. Slot left on j\n",
    "            j -= 1\n",
    "            \n",
    "        l[j+1] = key # Place key in free slot..(j+1 because we decrement j above)"
   ]
  },
  {
   "cell_type": "code",
   "execution_count": 4,
   "metadata": {},
   "outputs": [
    {
     "name": "stdout",
     "output_type": "stream",
     "text": [
      "[1, 1, 1, 2, 2, 4, 5, 5, 6, 15, 110]\n"
     ]
    }
   ],
   "source": [
    "l = [1, 2, 4, 1, 2, 5, 5, 6, 1, 110, 15]\n",
    "insertion_sort(l)\n",
    "print(l)"
   ]
  },
  {
   "cell_type": "markdown",
   "metadata": {},
   "source": [
    "# Selection Sort"
   ]
  },
  {
   "cell_type": "code",
   "execution_count": 5,
   "metadata": {},
   "outputs": [],
   "source": [
    "def selection_sort(l):\n",
    "    n = len(l)\n",
    "    \n",
    "    # for each element in the list (starting from left)\n",
    "    for i in range(n):\n",
    "        min_idx = i # find the minimum ...\n",
    "        # ... in the *rest* of the list\n",
    "        for j in range(i+1, n):\n",
    "            \n",
    "            if l[j] < l[min_idx]:\n",
    "                min_idx = j\n",
    "        \n",
    "        # swap the minimum  with current element, now we have (sorted stuff till i)\n",
    "        l[i] , l[min_idx] = l[min_idx], l[i]"
   ]
  },
  {
   "cell_type": "code",
   "execution_count": 6,
   "metadata": {},
   "outputs": [
    {
     "name": "stdout",
     "output_type": "stream",
     "text": [
      "[1, 1, 1, 2, 2, 4, 5, 5, 6, 15, 110]\n"
     ]
    }
   ],
   "source": [
    "l = [1, 2, 4, 1, 2, 5, 5, 6, 1, 110, 15]\n",
    "selection_sort(l)\n",
    "print(l)"
   ]
  },
  {
   "cell_type": "markdown",
   "metadata": {},
   "source": [
    "# Qucik Sort"
   ]
  },
  {
   "cell_type": "code",
   "execution_count": 7,
   "metadata": {},
   "outputs": [],
   "source": [
    "import random\n",
    "\n",
    "def qsort(l, fst, lst):\n",
    "    if fst >= lst: return\n",
    "    \n",
    "    i, j = fst, lst\n",
    "    pivot = l[random.randint(fst, lst)]\n",
    "    \n",
    "    while i <= j:\n",
    "        while l[i] < pivot: i += 1\n",
    "        while l[j] > pivot: j -= 1\n",
    "        if i <= j:\n",
    "            l[i], l[j] = l[j], l[i]\n",
    "            i, j = i + 1, j-1\n",
    "    \n",
    "    qsort(l, fst, j)\n",
    "    qsort(l, i, lst)"
   ]
  },
  {
   "cell_type": "code",
   "execution_count": 8,
   "metadata": {},
   "outputs": [
    {
     "name": "stdout",
     "output_type": "stream",
     "text": [
      "[1, 1, 1, 2, 2, 4, 5, 5, 6, 15, 110]\n"
     ]
    }
   ],
   "source": [
    "l = [1, 2, 4, 1, 2, 5, 5, 6, 1, 110, 15]\n",
    "qsort(l, 0, len(l)-1)\n",
    "print(l)"
   ]
  },
  {
   "cell_type": "markdown",
   "metadata": {},
   "source": [
    "# Sorting in the Rel World"
   ]
  },
  {
   "cell_type": "markdown",
   "metadata": {},
   "source": [
    "# Descending Sorts"
   ]
  },
  {
   "cell_type": "code",
   "execution_count": 9,
   "metadata": {},
   "outputs": [],
   "source": [
    "def selection_sort(l):\n",
    "    n = len(l)\n",
    "    \n",
    "    # for each element in the list (starting from left)\n",
    "    for i in range(n):\n",
    "        idx = i # find the replacement ...\n",
    "        \n",
    "        # ... in the *rest* of the list\n",
    "        for j in range(i+1, n):\n",
    "            \n",
    "            if l[j] > l[idx]:  # change to > for descending\n",
    "                idx = j\n",
    "                \n",
    "        # swap the replacement with current element, now we have ( sorted stuff till i)\n",
    "        l[i] , l[idx] = l[idx], l[i]"
   ]
  },
  {
   "cell_type": "code",
   "execution_count": 10,
   "metadata": {},
   "outputs": [
    {
     "name": "stdout",
     "output_type": "stream",
     "text": [
      "[110, 15, 6, 5, 5, 4, 2, 2, 1, 1, 1]\n"
     ]
    }
   ],
   "source": [
    "l = [1, 2, 4, 1, 2, 5, 5, 6, 1, 110, 15]\n",
    "selection_sort(l)\n",
    "print(l)"
   ]
  },
  {
   "cell_type": "markdown",
   "metadata": {},
   "source": [
    "But there's better way!"
   ]
  },
  {
   "cell_type": "code",
   "execution_count": 11,
   "metadata": {},
   "outputs": [],
   "source": [
    "def less_than(a, b):\n",
    "    return a < b"
   ]
  },
  {
   "cell_type": "code",
   "execution_count": 12,
   "metadata": {},
   "outputs": [],
   "source": [
    "def selection_sort(l, compare_with):\n",
    "    n = len(l)\n",
    "    \n",
    "    # for each element in the list (starting from left)\n",
    "    for i in range(n):\n",
    "        min_idx = i   # find the minimum ...\n",
    "        \n",
    "        # ... in the *rest* of the list\n",
    "        for j in range(i+1, n):\n",
    "            \n",
    "            if compare_with(l[j], l[min_idx]):  # now the \"comparison\" is out-sourced !\n",
    "                min_idx = j\n",
    "                \n",
    "        # swap the minimum with current element, now we have ( sorted stuff till i)\n",
    "        l[i] , l[min_idx] = l[min_idx], l[i]"
   ]
  },
  {
   "cell_type": "code",
   "execution_count": 13,
   "metadata": {},
   "outputs": [
    {
     "name": "stdout",
     "output_type": "stream",
     "text": [
      "[1, 1, 1, 2, 2, 4, 5, 5, 6, 15, 110]\n"
     ]
    }
   ],
   "source": [
    "l = [1, 2, 4, 1, 2, 5, 5, 6, 1, 110, 15]\n",
    "selection_sort(l, less_than)\n",
    "print(l)"
   ]
  },
  {
   "cell_type": "code",
   "execution_count": 14,
   "metadata": {},
   "outputs": [],
   "source": [
    "def greater_than(a, b):\n",
    "    return a > b"
   ]
  },
  {
   "cell_type": "code",
   "execution_count": 15,
   "metadata": {},
   "outputs": [
    {
     "name": "stdout",
     "output_type": "stream",
     "text": [
      "[110, 15, 6, 5, 5, 4, 2, 2, 1, 1, 1]\n"
     ]
    }
   ],
   "source": [
    "l = [1, 2, 4, 1, 2, 5, 5, 6, 1, 110, 15]\n",
    "selection_sort(l, greater_than)\n",
    "print(l)"
   ]
  },
  {
   "cell_type": "markdown",
   "metadata": {},
   "source": [
    "# Taking it Even Futher\n",
    "\n",
    "Now we can do all sorts of stuff with this without making a single change to our selcetion sort code."
   ]
  },
  {
   "cell_type": "code",
   "execution_count": 16,
   "metadata": {},
   "outputs": [],
   "source": [
    "all_tuples = [\n",
    "    (24, 25),\n",
    "    (1, 2),\n",
    "    (2, 4),\n",
    "    (3, 5),\n",
    "]"
   ]
  },
  {
   "cell_type": "code",
   "execution_count": 17,
   "metadata": {},
   "outputs": [],
   "source": [
    "def tuple_less_than(a, b):\n",
    "    return sum(a) < sum(b)\n",
    "def tuple_greater_than(a, b):\n",
    "    return sum(a) > sum(b)"
   ]
  },
  {
   "cell_type": "code",
   "execution_count": 18,
   "metadata": {},
   "outputs": [
    {
     "name": "stdout",
     "output_type": "stream",
     "text": [
      "Ascending:\t[(1, 2), (2, 4), (3, 5), (24, 25)]\n",
      "Descending:\t[(24, 25), (3, 5), (2, 4), (1, 2)]\n"
     ]
    }
   ],
   "source": [
    "print(\"Ascending:\\t\", end=\"\")\n",
    "selection_sort(all_tuples, tuple_less_than)\n",
    "print(all_tuples)\n",
    "\n",
    "print(\"Descending:\\t\", end=\"\")\n",
    "selection_sort(all_tuples, tuple_greater_than)\n",
    "print(all_tuples)"
   ]
  },
  {
   "cell_type": "markdown",
   "metadata": {},
   "source": [
    "# Sorting in Python\n",
    "\n",
    "If you have a list of dictionaries -- each representing a student, for instance."
   ]
  },
  {
   "cell_type": "code",
   "execution_count": 19,
   "metadata": {},
   "outputs": [],
   "source": [
    "d = [\n",
    "    { 'name': 'Khalid', 'age': 5},\n",
    "    { 'name': 'Usman',  'age': 12},\n",
    "    { 'name': 'Ali',    'age': 7},\n",
    "    { 'name': 'Farooq', 'age': 3},\n",
    "]"
   ]
  },
  {
   "cell_type": "code",
   "execution_count": 20,
   "metadata": {},
   "outputs": [
    {
     "name": "stdout",
     "output_type": "stream",
     "text": [
      "[{'name': 'Farooq', 'age': 3}, {'name': 'Khalid', 'age': 5}, {'name': 'Ali', 'age': 7}, {'name': 'Usman', 'age': 12}]\n"
     ]
    }
   ],
   "source": [
    "def d_less_than(a, b):\n",
    "    return a['age'] < b['age']\n",
    "\n",
    "selection_sort(d, d_less_than)\n",
    "print(d)"
   ]
  },
  {
   "cell_type": "code",
   "execution_count": 21,
   "metadata": {},
   "outputs": [],
   "source": [
    "def student_age(a):\n",
    "    return a['age']"
   ]
  },
  {
   "cell_type": "code",
   "execution_count": 22,
   "metadata": {},
   "outputs": [
    {
     "name": "stdout",
     "output_type": "stream",
     "text": [
      "[{'name': 'Farooq', 'age': 3}, {'name': 'Khalid', 'age': 5}, {'name': 'Ali', 'age': 7}, {'name': 'Usman', 'age': 12}]\n",
      "[{'name': 'Usman', 'age': 12}, {'name': 'Ali', 'age': 7}, {'name': 'Khalid', 'age': 5}, {'name': 'Farooq', 'age': 3}]\n"
     ]
    }
   ],
   "source": [
    "print(d)\n",
    "d.sort(key=student_age, reverse=True)\n",
    "print(d)"
   ]
  },
  {
   "cell_type": "markdown",
   "metadata": {},
   "source": [
    "# Sorting Objects of Custom Classes"
   ]
  },
  {
   "cell_type": "code",
   "execution_count": 23,
   "metadata": {},
   "outputs": [],
   "source": [
    "class Student:\n",
    "    def __init__(self, name, age):\n",
    "        self.name = name\n",
    "        self.age = age\n",
    "    def __str__(self):\n",
    "        return self.name + ': ' + str(self.age)"
   ]
  },
  {
   "cell_type": "code",
   "execution_count": 24,
   "metadata": {},
   "outputs": [],
   "source": [
    "s1 = Student('Wajid', 5)\n",
    "s2 = Student('Usman', 7)\n",
    "s3 = Student('Ali', 3)\n",
    "\n",
    "s = [s1, s2, s3]"
   ]
  },
  {
   "cell_type": "markdown",
   "metadata": {},
   "source": [
    "You don't even have to give the function a name -- just use an anonymous function like so:"
   ]
  },
  {
   "cell_type": "code",
   "execution_count": 25,
   "metadata": {},
   "outputs": [
    {
     "name": "stdout",
     "output_type": "stream",
     "text": [
      "Wajid: 5\n",
      "Usman: 7\n",
      "Ali: 3\n"
     ]
    }
   ],
   "source": [
    "for i in s:\n",
    "    print(i)"
   ]
  },
  {
   "cell_type": "markdown",
   "metadata": {},
   "source": [
    "# Anonymous Function"
   ]
  },
  {
   "cell_type": "code",
   "execution_count": 26,
   "metadata": {},
   "outputs": [],
   "source": [
    "s.sort(key=lambda x: x.age) # reverse"
   ]
  },
  {
   "cell_type": "code",
   "execution_count": 27,
   "metadata": {},
   "outputs": [
    {
     "name": "stdout",
     "output_type": "stream",
     "text": [
      "Ali: 3\n",
      "Wajid: 5\n",
      "Usman: 7\n"
     ]
    }
   ],
   "source": [
    "for i in s:\n",
    "    print(i)"
   ]
  },
  {
   "cell_type": "code",
   "execution_count": null,
   "metadata": {},
   "outputs": [],
   "source": []
  }
 ],
 "metadata": {
  "kernelspec": {
   "display_name": "Python 3",
   "language": "python",
   "name": "python3"
  },
  "language_info": {
   "codemirror_mode": {
    "name": "ipython",
    "version": 3
   },
   "file_extension": ".py",
   "mimetype": "text/x-python",
   "name": "python",
   "nbconvert_exporter": "python",
   "pygments_lexer": "ipython3",
   "version": "3.8.5"
  }
 },
 "nbformat": 4,
 "nbformat_minor": 4
}
