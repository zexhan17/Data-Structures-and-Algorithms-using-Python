{
 "cells": [
  {
   "cell_type": "code",
   "execution_count": 1,
   "metadata": {},
   "outputs": [],
   "source": [
    "def print_tree(tree, level=0, label='.'):\n",
    "    print(' ' * (level*2)+ label + ':', tree.val)\n",
    "    for child, lbl in zip([tree.left, tree.right], ['L', 'R']): # do for all children\n",
    "        if child is not None:\n",
    "            print_tree(child, level+1, lbl)"
   ]
  },
  {
   "cell_type": "code",
   "execution_count": 2,
   "metadata": {},
   "outputs": [],
   "source": [
    "from graphviz import Digraph\n",
    "\n",
    "def visualize_tree(tree):\n",
    "    if tree is None: return 'Nothing in the tree !'\n",
    "    def add_nodes_edges(tree, dot=None):\n",
    "        #create Digraph object\n",
    "        if dot is None:\n",
    "            dot = Digraph()\n",
    "            dot.attr('node', shape='circle')\n",
    "            dot.node(name = str(tree), label=str(tree.val))\n",
    "            \n",
    "        for child in [tree.left, tree.right]: # do for all children\n",
    "            if child is not None:\n",
    "                if child == tree.left: dot.attr('node', shape='circle', style='filled', fillcolor='lightblue')\n",
    "                if child == tree.right: dot.attr('node', shape='doublecircle', style='filled', fillcolor='seashell')\n",
    "                dot.node(name=str(child), label=str(child.val))\n",
    "                dot.edge(str(tree), str(child))\n",
    "                dot = add_nodes_edges(child, dot=dot) # recursive call\n",
    "                    \n",
    "        return dot\n",
    "    # Add nodes recursively and create a list of edges\n",
    "    dot = add_nodes_edges(tree)\n",
    "        \n",
    "    # visualize the graph\n",
    "    display(dot)"
   ]
  },
  {
   "cell_type": "markdown",
   "metadata": {},
   "source": [
    "# Binary Search Tree"
   ]
  },
  {
   "cell_type": "code",
   "execution_count": 3,
   "metadata": {},
   "outputs": [],
   "source": [
    "class TreeNode:\n",
    "    def __init__(self, x):\n",
    "        self.val = x\n",
    "        self.left = None\n",
    "        self.right = None"
   ]
  },
  {
   "cell_type": "code",
   "execution_count": 4,
   "metadata": {},
   "outputs": [],
   "source": [
    "class BST(TreeNode):\n",
    "    def __init__(self, val, parent = None):\n",
    "        super().__init__(val)\n",
    "        self.parent = parent\n",
    "        \n",
    "    def insert(self, val):\n",
    "        if val < self.val: # insert into left\n",
    "            if self.left is None:\n",
    "                new_node = BST(val, parent = self)\n",
    "                self.left = new_node\n",
    "            else:\n",
    "                self.left.insert(val)\n",
    "                \n",
    "        else: # greater\n",
    "            if self.right is None:\n",
    "                self.right = BST(val, parent=self)\n",
    "            else:\n",
    "                self.right.insert(val)\n",
    "    \n",
    "    def search(self, val):\n",
    "        if val < self.val:\n",
    "            if self.left is None:\n",
    "                return str(val) + \" Not found\"\n",
    "            return self.left.findval(val)\n",
    "        elif val > self.val:\n",
    "            if self.right is None:\n",
    "                return str(val) + \" Not found\"\n",
    "            return self.right.findval(val)\n",
    "        else:\n",
    "            return str(self.val) + ' is found'\n",
    "            \n",
    "    \n",
    "    \n",
    "    def dfs_inorder(self):\n",
    "        if self.left:\n",
    "            self.left.dfs_inorder()\n",
    "    \n",
    "        print(self.val)\n",
    "    \n",
    "        if self.right:\n",
    "            self.right.dfs_inorder()"
   ]
  },
  {
   "cell_type": "code",
   "execution_count": 5,
   "metadata": {},
   "outputs": [
    {
     "name": "stdout",
     "output_type": "stream",
     "text": [
      "20\n"
     ]
    }
   ],
   "source": [
    "b = BST(20)\n",
    "print(b.val)"
   ]
  },
  {
   "cell_type": "code",
   "execution_count": 6,
   "metadata": {},
   "outputs": [
    {
     "name": "stdout",
     "output_type": "stream",
     "text": [
      ".: 20\n"
     ]
    }
   ],
   "source": [
    "print_tree(b)"
   ]
  },
  {
   "cell_type": "code",
   "execution_count": 7,
   "metadata": {},
   "outputs": [
    {
     "name": "stdout",
     "output_type": "stream",
     "text": [
      ".: 20\n",
      "  R: 24\n"
     ]
    }
   ],
   "source": [
    "b.insert(24)\n",
    "print_tree(b)"
   ]
  },
  {
   "cell_type": "code",
   "execution_count": 8,
   "metadata": {},
   "outputs": [
    {
     "name": "stdout",
     "output_type": "stream",
     "text": [
      ".: 20\n",
      "  L: 10\n",
      "  R: 24\n"
     ]
    }
   ],
   "source": [
    "b.insert(10)\n",
    "print_tree(b)"
   ]
  },
  {
   "cell_type": "code",
   "execution_count": 9,
   "metadata": {},
   "outputs": [
    {
     "name": "stdout",
     "output_type": "stream",
     "text": [
      ".: 20\n",
      "  L: 10\n",
      "    L: 1\n",
      "  R: 24\n"
     ]
    }
   ],
   "source": [
    "b.insert(1)\n",
    "print_tree(b)"
   ]
  },
  {
   "cell_type": "code",
   "execution_count": 10,
   "metadata": {},
   "outputs": [
    {
     "name": "stdout",
     "output_type": "stream",
     "text": [
      "1\n",
      "10\n",
      "20\n",
      "24\n"
     ]
    }
   ],
   "source": [
    "b.dfs_inorder() # get sorted value"
   ]
  },
  {
   "cell_type": "code",
   "execution_count": 11,
   "metadata": {},
   "outputs": [],
   "source": [
    "b.insert(21)\n",
    "b.insert(26)\n",
    "b.insert(25)"
   ]
  },
  {
   "cell_type": "code",
   "execution_count": 12,
   "metadata": {},
   "outputs": [
    {
     "name": "stdout",
     "output_type": "stream",
     "text": [
      ".: 20\n",
      "  L: 10\n",
      "    L: 1\n",
      "  R: 24\n",
      "    L: 21\n",
      "    R: 26\n",
      "      L: 25\n"
     ]
    }
   ],
   "source": [
    "print_tree(b)"
   ]
  },
  {
   "cell_type": "markdown",
   "metadata": {},
   "source": [
    "# Deletion from the BST\n",
    "\n",
    "First, we'll need some helper functions. Let's discuss those first."
   ]
  },
  {
   "cell_type": "code",
   "execution_count": 13,
   "metadata": {},
   "outputs": [],
   "source": [
    "def find_root(self):\n",
    "    \"\"\"Find the absolute root of the BST to which self belongs.\n",
    "    Keep going up until you reach no-parent node.\"\"\"\n",
    "    temp = self\n",
    "    while temp.parent is not None:\n",
    "        temp = temp.parent\n",
    "        \n",
    "    return temp\n",
    "    # keep going up until no parent..return that.\n",
    "\n",
    "BST.find_root = find_root"
   ]
  },
  {
   "cell_type": "code",
   "execution_count": 14,
   "metadata": {},
   "outputs": [],
   "source": [
    "def find_min(self):\n",
    "    \"\"\"Find the minimum value starting from self. In BST, this is simple, keep going left until no more left is left!\"\"\"\n",
    "    \n",
    "    min_node = self\n",
    "    \n",
    "    if self.left is not None:\n",
    "        min_node = self.left.find_min()\n",
    "    \n",
    "    return min_node\n",
    "\n",
    "BST.find_min = find_min"
   ]
  },
  {
   "cell_type": "code",
   "execution_count": 15,
   "metadata": {},
   "outputs": [
    {
     "name": "stdout",
     "output_type": "stream",
     "text": [
      ".: 20\n",
      "  L: 10\n",
      "    L: 1\n",
      "  R: 24\n",
      "    L: 21\n",
      "    R: 26\n",
      "      L: 25\n",
      "Min is:  1\n"
     ]
    }
   ],
   "source": [
    "print_tree(b)\n",
    "print(\"Min is: \", b.find_min().val)"
   ]
  },
  {
   "cell_type": "code",
   "execution_count": 17,
   "metadata": {},
   "outputs": [],
   "source": [
    "def set_for_parent(self, new_ref):\n",
    "    \"\"\"Disconnect self from parent and attach new_ref to parent is self's place.\"\"\"\n",
    "    \n",
    "    if self.parent is None: return\n",
    "    \n",
    "    if self.parent.right == self:\n",
    "        self.parent.right = new_ref\n",
    "        \n",
    "    if self.parent.left == self:\n",
    "        self.parent.left = new_ref\n",
    "    \n",
    "BST.set_for_parent = set_for_parent"
   ]
  },
  {
   "cell_type": "code",
   "execution_count": 18,
   "metadata": {},
   "outputs": [],
   "source": [
    "def replace_with_node(self, node):\n",
    "    \"\"\"Replace self with node (which is a child). Make sure to fix the parent of the node and parent' pointing to node. Assume we have no children other than node.\"\"\"\n",
    "    \n",
    "    self.set_for_parent(node) # connect new node to parent on poper location\n",
    "    node.parent = self.parent # set node's parent correctly\n",
    "    self.parent = None        # Disconnect self from the parent\n",
    "    return node.find_root()   # find root again\n",
    "\n",
    "BST.replace_with_node = replace_with_node"
   ]
  },
  {
   "cell_type": "code",
   "execution_count": 36,
   "metadata": {},
   "outputs": [],
   "source": [
    "def delete(self, val):\n",
    "    # first.. if we are alone, on the root and no children plus the values matches just return None\n",
    "    \n",
    "    if self.parent is None and self.right is None and self.left is None and self.val == val:\n",
    "        return None\n",
    "    \n",
    "    # we are the node to be deleted\n",
    "    if self.val == val:\n",
    "        # check if we are leaf\n",
    "        if self.right is None and self.left is None:\n",
    "            self.set_for_parent(None) # set in place of self a None\n",
    "            return self.find_root()\n",
    "        \n",
    "        #  check if we have just a left node\n",
    "        if self.right is None:\n",
    "            return self.replace_with_node(self.left)\n",
    "        \n",
    "        # check if we have just a right node\n",
    "        if self.left is None:\n",
    "            return self.replace_with_node(self.right)\n",
    "        \n",
    "        # now we have both children. Find the successor and replace \"self\" with it.\n",
    "        # (our succ is definitely in our right child and it can't have two children because left child will always be smaller.)\n",
    "        \n",
    "        successor = self.right.find_min()\n",
    "        \n",
    "        # copy successor's val here\n",
    "        self.val = successor.val\n",
    "        \n",
    "        return self.right.delete(successor.val)\n",
    "        # ^ delete the successor node, which is in our right child BST.\n",
    "        # ^ IT's guaranteed that it's the simpler case since successor CANNOT have a left child.\n",
    "    \n",
    "    # we were not the node to be deleted, go children\n",
    "    if val < self.val:\n",
    "        if self.left is not None:\n",
    "            return self.left.delete(val)\n",
    "        else:\n",
    "            return self.find_root() # nothing to delete\n",
    "    else:\n",
    "        if self.right is not None:\n",
    "            return self.right.delete(val)\n",
    "        else:\n",
    "            return self.find_root()\n",
    "            \n",
    "BST.delete = delete"
   ]
  },
  {
   "cell_type": "code",
   "execution_count": 37,
   "metadata": {},
   "outputs": [
    {
     "name": "stdout",
     "output_type": "stream",
     "text": [
      ".: 20\n",
      "  L: 10\n",
      "  R: 24\n",
      "    L: 21\n",
      "    R: 25\n",
      "      R: 26\n"
     ]
    }
   ],
   "source": [
    "b = BST(20)\n",
    "b.insert(24)\n",
    "b.insert(21)\n",
    "b.insert(10)\n",
    "b.insert(25)\n",
    "b.insert(26)\n",
    "\n",
    "print_tree(b)"
   ]
  },
  {
   "cell_type": "code",
   "execution_count": 38,
   "metadata": {},
   "outputs": [],
   "source": [
    "b = b.delete(20)"
   ]
  },
  {
   "cell_type": "code",
   "execution_count": 39,
   "metadata": {},
   "outputs": [
    {
     "name": "stdout",
     "output_type": "stream",
     "text": [
      ".: 21\n",
      "  L: 10\n",
      "  R: 24\n",
      "    R: 25\n",
      "      R: 26\n"
     ]
    }
   ],
   "source": [
    "print_tree(b)\n",
    "#visualize_tree(b)"
   ]
  },
  {
   "cell_type": "code",
   "execution_count": 40,
   "metadata": {},
   "outputs": [
    {
     "data": {
      "image/svg+xml": [
       "<?xml version=\"1.0\" encoding=\"UTF-8\" standalone=\"no\"?>\n",
       "<!DOCTYPE svg PUBLIC \"-//W3C//DTD SVG 1.1//EN\"\n",
       " \"http://www.w3.org/Graphics/SVG/1.1/DTD/svg11.dtd\">\n",
       "<!-- Generated by graphviz version 2.43.0 (0)\n",
       " -->\n",
       "<!-- Title: %3 Pages: 1 -->\n",
       "<svg width=\"124pt\" height=\"232pt\"\n",
       " viewBox=\"0.00 0.00 124.50 232.49\" xmlns=\"http://www.w3.org/2000/svg\" xmlns:xlink=\"http://www.w3.org/1999/xlink\">\n",
       "<g id=\"graph0\" class=\"graph\" transform=\"scale(1 1) rotate(0) translate(4 228.49)\">\n",
       "<title>%3</title>\n",
       "<polygon fill=\"white\" stroke=\"transparent\" points=\"-4,4 -4,-228.49 120.5,-228.49 120.5,4 -4,4\"/>\n",
       "<!-- __main__.BST object at 0x7f64a8e62520 -->\n",
       "<g id=\"node1\" class=\"node\">\n",
       "<title>__main__.BST object at 0x7f64a8e62520</title>\n",
       "<ellipse fill=\"none\" stroke=\"black\" cx=\"55.75\" cy=\"-201.74\" rx=\"23\" ry=\"23\"/>\n",
       "<text text-anchor=\"middle\" x=\"55.75\" y=\"-198.04\" font-family=\"Times,serif\" font-size=\"14.00\">24</text>\n",
       "</g>\n",
       "<!-- __main__.BST object at 0x7f64a96a1250 -->\n",
       "<g id=\"node2\" class=\"node\">\n",
       "<title>__main__.BST object at 0x7f64a96a1250</title>\n",
       "<ellipse fill=\"lightblue\" stroke=\"black\" cx=\"22.75\" cy=\"-116.24\" rx=\"23\" ry=\"23\"/>\n",
       "<text text-anchor=\"middle\" x=\"22.75\" y=\"-112.54\" font-family=\"Times,serif\" font-size=\"14.00\">10</text>\n",
       "</g>\n",
       "<!-- __main__.BST object at 0x7f64a8e62520&#45;&gt;__main__.BST object at 0x7f64a96a1250 -->\n",
       "<g id=\"edge1\" class=\"edge\">\n",
       "<title>__main__.BST object at 0x7f64a8e62520&#45;&gt;__main__.BST object at 0x7f64a96a1250</title>\n",
       "<path fill=\"none\" stroke=\"black\" d=\"M47.59,-180.1C43.67,-170.19 38.91,-158.13 34.6,-147.23\"/>\n",
       "<polygon fill=\"black\" stroke=\"black\" points=\"37.74,-145.66 30.81,-137.65 31.23,-148.23 37.74,-145.66\"/>\n",
       "</g>\n",
       "<!-- __main__.BST object at 0x7f64a96a1400 -->\n",
       "<g id=\"node3\" class=\"node\">\n",
       "<title>__main__.BST object at 0x7f64a96a1400</title>\n",
       "<ellipse fill=\"seashell\" stroke=\"black\" cx=\"89.75\" cy=\"-116.24\" rx=\"22.96\" ry=\"22.96\"/>\n",
       "<ellipse fill=\"none\" stroke=\"black\" cx=\"89.75\" cy=\"-116.24\" rx=\"27\" ry=\"27\"/>\n",
       "<text text-anchor=\"middle\" x=\"89.75\" y=\"-112.54\" font-family=\"Times,serif\" font-size=\"14.00\">25</text>\n",
       "</g>\n",
       "<!-- __main__.BST object at 0x7f64a8e62520&#45;&gt;__main__.BST object at 0x7f64a96a1400 -->\n",
       "<g id=\"edge2\" class=\"edge\">\n",
       "<title>__main__.BST object at 0x7f64a8e62520&#45;&gt;__main__.BST object at 0x7f64a96a1400</title>\n",
       "<path fill=\"none\" stroke=\"black\" d=\"M63.98,-180.53C67.61,-171.6 71.98,-160.87 76.08,-150.8\"/>\n",
       "<polygon fill=\"black\" stroke=\"black\" points=\"79.37,-152.01 79.9,-141.43 72.89,-149.37 79.37,-152.01\"/>\n",
       "</g>\n",
       "<!-- __main__.BST object at 0x7f64a96a1910 -->\n",
       "<g id=\"node4\" class=\"node\">\n",
       "<title>__main__.BST object at 0x7f64a96a1910</title>\n",
       "<ellipse fill=\"seashell\" stroke=\"black\" cx=\"89.75\" cy=\"-26.75\" rx=\"22.96\" ry=\"22.96\"/>\n",
       "<ellipse fill=\"none\" stroke=\"black\" cx=\"89.75\" cy=\"-26.75\" rx=\"27\" ry=\"27\"/>\n",
       "<text text-anchor=\"middle\" x=\"89.75\" y=\"-23.05\" font-family=\"Times,serif\" font-size=\"14.00\">26</text>\n",
       "</g>\n",
       "<!-- __main__.BST object at 0x7f64a96a1400&#45;&gt;__main__.BST object at 0x7f64a96a1910 -->\n",
       "<g id=\"edge3\" class=\"edge\">\n",
       "<title>__main__.BST object at 0x7f64a96a1400&#45;&gt;__main__.BST object at 0x7f64a96a1910</title>\n",
       "<path fill=\"none\" stroke=\"black\" d=\"M89.75,-89.47C89.75,-81.44 89.75,-72.43 89.75,-63.84\"/>\n",
       "<polygon fill=\"black\" stroke=\"black\" points=\"93.25,-63.64 89.75,-53.64 86.25,-63.64 93.25,-63.64\"/>\n",
       "</g>\n",
       "</g>\n",
       "</svg>\n"
      ],
      "text/plain": [
       "<graphviz.dot.Digraph at 0x7f64a8e621f0>"
      ]
     },
     "metadata": {},
     "output_type": "display_data"
    }
   ],
   "source": [
    "b = b.delete(21)\n",
    "visualize_tree(b)"
   ]
  },
  {
   "cell_type": "code",
   "execution_count": 41,
   "metadata": {},
   "outputs": [
    {
     "name": "stdout",
     "output_type": "stream",
     "text": [
      ".: 5\n",
      "  L: 1\n",
      "  R: 20\n",
      "    L: 10\n",
      "    R: 50\n",
      "      L: 30\n",
      "        R: 40\n",
      "      R: 60\n"
     ]
    }
   ],
   "source": [
    "b = BST(5)\n",
    "\n",
    "b.insert(1)\n",
    "b.insert(20)\n",
    "b.insert(10)\n",
    "b.insert(50)\n",
    "b.insert(30)\n",
    "b.insert(40)\n",
    "b.insert(60)\n",
    "\n",
    "print_tree(b)\n",
    "#visualize_tree(b)"
   ]
  },
  {
   "cell_type": "code",
   "execution_count": 42,
   "metadata": {},
   "outputs": [],
   "source": [
    "b = b.delete(1)"
   ]
  },
  {
   "cell_type": "code",
   "execution_count": 43,
   "metadata": {},
   "outputs": [
    {
     "name": "stdout",
     "output_type": "stream",
     "text": [
      ".: 5\n",
      "  R: 20\n",
      "    L: 10\n",
      "    R: 50\n",
      "      L: 30\n",
      "        R: 40\n",
      "      R: 60\n"
     ]
    }
   ],
   "source": [
    "print_tree(b)\n",
    "#visualize_tree(b)"
   ]
  },
  {
   "cell_type": "markdown",
   "metadata": {},
   "source": [
    "# Getting Sorted Values Back"
   ]
  },
  {
   "cell_type": "code",
   "execution_count": 44,
   "metadata": {},
   "outputs": [],
   "source": [
    "l = [1, 2, 17, 9, 13, 21, 5, 71, 6, 8]"
   ]
  },
  {
   "cell_type": "code",
   "execution_count": 45,
   "metadata": {},
   "outputs": [],
   "source": [
    "b = BST(l[0])\n",
    "for i in l[1:]:\n",
    "    b.insert(i)"
   ]
  },
  {
   "cell_type": "code",
   "execution_count": 46,
   "metadata": {},
   "outputs": [
    {
     "name": "stdout",
     "output_type": "stream",
     "text": [
      ".: 1\n",
      "  R: 2\n",
      "    R: 17\n",
      "      L: 9\n",
      "        L: 5\n",
      "          R: 6\n",
      "            R: 8\n",
      "        R: 13\n",
      "      R: 21\n",
      "        R: 71\n"
     ]
    }
   ],
   "source": [
    "print_tree(b)\n",
    "#visualize_tree(b)"
   ]
  },
  {
   "cell_type": "code",
   "execution_count": 47,
   "metadata": {},
   "outputs": [
    {
     "name": "stdout",
     "output_type": "stream",
     "text": [
      "1\n",
      "2\n",
      "5\n",
      "6\n",
      "8\n",
      "9\n",
      "13\n",
      "17\n",
      "21\n",
      "71\n"
     ]
    }
   ],
   "source": [
    "b.dfs_inorder()"
   ]
  },
  {
   "cell_type": "markdown",
   "metadata": {},
   "source": [
    "# Issue with BST - Balance"
   ]
  },
  {
   "cell_type": "code",
   "execution_count": 48,
   "metadata": {},
   "outputs": [],
   "source": [
    "l = [1, 2, 4, 9, 13, 21, 51, 71, 82]   # ,6]"
   ]
  },
  {
   "cell_type": "code",
   "execution_count": 49,
   "metadata": {},
   "outputs": [],
   "source": [
    "b = BST(l[0])\n",
    "for i in l[1:]:\n",
    "    b.insert(i)"
   ]
  },
  {
   "cell_type": "code",
   "execution_count": 50,
   "metadata": {},
   "outputs": [
    {
     "name": "stdout",
     "output_type": "stream",
     "text": [
      ".: 1\n",
      "  R: 2\n",
      "    R: 4\n",
      "      R: 9\n",
      "        R: 13\n",
      "          R: 21\n",
      "            R: 51\n",
      "              R: 71\n",
      "                R: 82\n"
     ]
    }
   ],
   "source": [
    "print_tree(b)\n",
    "#visualize_tree(b)"
   ]
  },
  {
   "cell_type": "code",
   "execution_count": 51,
   "metadata": {},
   "outputs": [
    {
     "name": "stdout",
     "output_type": "stream",
     "text": [
      "1\n",
      "2\n",
      "4\n",
      "9\n",
      "13\n",
      "21\n",
      "51\n",
      "71\n",
      "82\n"
     ]
    }
   ],
   "source": [
    "b.dfs_inorder()"
   ]
  },
  {
   "cell_type": "markdown",
   "metadata": {},
   "source": [
    "This issue is resolved using advanced BSTs such as RB trees and AVL tree. Balance is achieved using the concept of rotation based on different rules."
   ]
  },
  {
   "cell_type": "markdown",
   "metadata": {},
   "source": []
  },
  {
   "cell_type": "code",
   "execution_count": null,
   "metadata": {},
   "outputs": [],
   "source": []
  }
 ],
 "metadata": {
  "kernelspec": {
   "display_name": "Python 3",
   "language": "python",
   "name": "python3"
  },
  "language_info": {
   "codemirror_mode": {
    "name": "ipython",
    "version": 3
   },
   "file_extension": ".py",
   "mimetype": "text/x-python",
   "name": "python",
   "nbconvert_exporter": "python",
   "pygments_lexer": "ipython3",
   "version": "3.8.5"
  }
 },
 "nbformat": 4,
 "nbformat_minor": 4
}
