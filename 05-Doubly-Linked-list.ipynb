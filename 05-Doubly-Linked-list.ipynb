{
 "metadata": {
  "language_info": {
   "codemirror_mode": {
    "name": "ipython",
    "version": 3
   },
   "file_extension": ".py",
   "mimetype": "text/x-python",
   "name": "python",
   "nbconvert_exporter": "python",
   "pygments_lexer": "ipython3",
   "version": "3.8.5-final"
  },
  "orig_nbformat": 2,
  "kernelspec": {
   "name": "python3",
   "display_name": "Python 3",
   "language": "python"
  }
 },
 "nbformat": 4,
 "nbformat_minor": 2,
 "cells": [
  {
   "source": [
    "Doubly linked lsit\n",
    "A doubly-linked lsit is quit similar to a singly-linked list. just need to add a prev pointer to all nodes"
   ],
   "cell_type": "markdown",
   "metadata": {}
  },
  {
   "cell_type": "code",
   "execution_count": 5,
   "metadata": {},
   "outputs": [],
   "source": [
    "class Node:\n",
    "    def __init__(self, data= None):\n",
    "       self.val = data\n",
    "       self.next = None\n",
    "       self.prev = None # change\n",
    "class Doubly:\n",
    "    def __init__(self):\n",
    "        self.head = None"
   ]
  },
  {
   "source": [
    "The PUSH operation is also the same mostly.The new node only needs to be linked to the second-to-last-node"
   ],
   "cell_type": "markdown",
   "metadata": {}
  },
  {
   "cell_type": "code",
   "execution_count": 6,
   "metadata": {},
   "outputs": [],
   "source": [
    "def push(self, val):\n",
    "    new_node = Node(val)\n",
    "    # no node currently\n",
    "    if self.head is None:\n",
    "        self.head = new_node\n",
    "        return\n",
    "    \n",
    "    # otherwise, reach the end and then insert\n",
    "    last = self.head\n",
    "    while last.next is not None:\n",
    "        last = last.next\n",
    "\n",
    "    last.next = new_node\n",
    "    new_node.prev = last # change\n",
    "\n",
    "Doubly.push = push"
   ]
  },
  {
   "cell_type": "code",
   "execution_count": 7,
   "metadata": {},
   "outputs": [],
   "source": [
    "def pop(self):\n",
    "    if self.head is None:\n",
    "        raise Exception(\"Cannot pop. NO value.\")\n",
    "\n",
    "    # case where there is only one node\n",
    "    if self.head.next is None:\n",
    "        print(\"case 1\")\n",
    "        val = self.head.val\n",
    "        self.head = None # automatic garbage collection\n",
    "        return val\n",
    "\n",
    "    # case where there is 2 or more nodes\n",
    "    # reach the previous to least node\n",
    "    print(\"case 2\")\n",
    "    temp = self.head\n",
    "    while temp.next is not None:\n",
    "        prev = temp\n",
    "        temp = temp.next\n",
    "    \n",
    "    val = temp.val\n",
    "    prev.next = None\n",
    "    return val\n",
    "Doubly.pop = pop"
   ]
  },
  {
   "cell_type": "code",
   "execution_count": 8,
   "metadata": {},
   "outputs": [],
   "source": [
    "def __str__(self):\n",
    "    ret_str = '['\n",
    "    temp = self.head\n",
    "    while temp is not None: # or just while temp:\n",
    "        # print(hex(id(temp.prev)),hex(id(temp.next)))\n",
    "        ret_str += str(temp.val) + ', '\n",
    "        temp = temp.next\n",
    "        \n",
    "    ret_str = ret_str.rstrip(', ')\n",
    "    ret_str += ']'\n",
    "    return ret_str\n",
    "Doubly.__str__ =  __str__"
   ]
  },
  {
   "cell_type": "code",
   "execution_count": 9,
   "metadata": {},
   "outputs": [
    {
     "output_type": "stream",
     "name": "stdout",
     "text": [
      "[1, 1, 1]\ncase 2\npop :  1\n[1, 1]\n"
     ]
    }
   ],
   "source": [
    "l = Doubly()\n",
    "l.push(1)\n",
    "l.push(1)\n",
    "l.push(1)\n",
    "\n",
    "print(l)\n",
    "\n",
    "print(\"pop : \", l.pop())\n",
    "\n",
    "print(l)"
   ]
  },
  {
   "cell_type": "code",
   "execution_count": null,
   "metadata": {},
   "outputs": [],
   "source": []
  }
 ]
}