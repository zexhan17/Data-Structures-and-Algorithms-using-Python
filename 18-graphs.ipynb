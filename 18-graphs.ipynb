{
 "cells": [
  {
   "cell_type": "markdown",
   "id": "korean-radiation",
   "metadata": {},
   "source": [
    "# Graphs - Traversal and Path Finding"
   ]
  },
  {
   "cell_type": "code",
   "execution_count": 49,
   "id": "welcome-boston",
   "metadata": {},
   "outputs": [
    {
     "name": "stdout",
     "output_type": "stream",
     "text": [
      "Requirement already satisfied: networkx in /home/zeeshan/miniconda3/lib/python3.8/site-packages (2.5)\n",
      "Requirement already satisfied: decorator>=4.3.0 in /home/zeeshan/miniconda3/lib/python3.8/site-packages (from networkx) (4.4.2)\n"
     ]
    }
   ],
   "source": [
    "!pip install networkx # install once"
   ]
  },
  {
   "cell_type": "markdown",
   "id": "descending-answer",
   "metadata": {},
   "source": [
    "Requirement already satisfied: network in /Users/name/miniconda3.6/site-packages (2.3)\n",
    "\n",
    "Requirement already satisfied: decoder>4.3.0 in /Users/nam/miniconda3/lib/python3.6/site-packages (from networkx) (4.3.0)"
   ]
  },
  {
   "cell_type": "code",
   "execution_count": 50,
   "id": "quiet-liability",
   "metadata": {},
   "outputs": [],
   "source": [
    "import networkx as nx\n",
    "import matplotlib.pyplot as plt\n",
    "\n",
    "# for notebook \n",
    "%matplotlib inline \n",
    "import warnings\n",
    "warnings.filterwarnings(\"ignore\")"
   ]
  },
  {
   "cell_type": "code",
   "execution_count": 51,
   "id": "endless-success",
   "metadata": {},
   "outputs": [],
   "source": [
    "def draw_graph_with_nx(G): \n",
    "    pos = nx.spring_layout(G, iterations=200)\n",
    "    options = {'node_color': 'white', 'alpha': 1, 'node_size': 2000, 'width': 0.002, 'font_color': 'darkred', \n",
    "               'font_size': 25, 'arrows': True, 'edge_color': 'brown',\n",
    "               'arrowstyle': 'Fancy, head_length=1, head_width=1, tail_width=.4'\n",
    "              }\n",
    "    labels = nx.get_node_attributes(G, 'label')\n",
    "    nx.draw(G, pos, labels=labels,  **options)\n",
    "    plt.show()"
   ]
  },
  {
   "cell_type": "code",
   "execution_count": 52,
   "id": "necessary-active",
   "metadata": {},
   "outputs": [],
   "source": [
    "class DiGraph: \n",
    "    def __init__(self): \n",
    "        self.g = {} \n",
    "        \n",
    "    def add_node(self, node): \n",
    "        if node in self.g: \n",
    "            raise ValueError(\"Node already in graph\")\n",
    "            \n",
    "        self.g[node] = [] \n",
    "\n",
    "    def add_edge(self, src, dest): \n",
    "        # sanity checks \n",
    "        if src not in self.g: \n",
    "            raise ValueError(\"Source node not in graph\")\n",
    "        if dest not in self.g: \n",
    "            raise ValueError(\"Destination node not in graph\")\n",
    "            \n",
    "        nexts = self.g[src]\n",
    "        if dest in nexts: \n",
    "            return \n",
    "        \n",
    "        nexts.append(dest)\n",
    "        \n",
    "        \n",
    "    def draw_graph(self): \n",
    "        G = nx.DiGraph()\n",
    "        for src in self.g: \n",
    "            G.add_node(src, label=src) \n",
    "            for dest in self.g[src]:\n",
    "                G.add_edge(src, dest)\n",
    "                \n",
    "        draw_graph_with_nx(G)     "
   ]
  },
  {
   "cell_type": "code",
   "execution_count": 53,
   "id": "atomic-jumping",
   "metadata": {},
   "outputs": [],
   "source": [
    "g = DiGraph() \n",
    "\n",
    "nodes = ['a', 'b', 'c', 'd', 'e', 'f'] \n",
    "\n",
    "for n in nodes: \n",
    "    g.add_node(n) "
   ]
  },
  {
   "cell_type": "code",
   "execution_count": 54,
   "id": "medical-sally",
   "metadata": {},
   "outputs": [],
   "source": [
    "edges = [\n",
    "    ('a', 'b'),\n",
    "    ('a', 'c'),\n",
    "    ('b', 'c'),\n",
    "    ('b', 'd'),\n",
    "    ('c', 'd'),\n",
    "    ('d', 'c'),\n",
    "    ('e', 'f'),\n",
    "    ('f', 'c')\n",
    "]\n",
    "\n",
    "for e in edges:\n",
    "    g.add_edge(e[0], e[1])"
   ]
  },
  {
   "cell_type": "code",
   "execution_count": 55,
   "id": "relevant-haiti",
   "metadata": {},
   "outputs": [
    {
     "name": "stdout",
     "output_type": "stream",
     "text": [
      "{'a': ['b', 'c'], 'b': ['c', 'd'], 'c': ['d'], 'd': ['c'], 'e': ['f'], 'f': ['c']}\n"
     ]
    }
   ],
   "source": [
    "print(g.g) # Abstraction police: Don't freak out! We're just looking."
   ]
  },
  {
   "cell_type": "code",
   "execution_count": 56,
   "id": "southwest-grounds",
   "metadata": {},
   "outputs": [
    {
     "name": "stdout",
     "output_type": "stream",
     "text": [
      "{'a': ['b', 'c'],\n",
      " 'b': ['c', 'd'],\n",
      " 'c': ['d'],\n",
      " 'd': ['c'],\n",
      " 'e': ['f'],\n",
      " 'f': ['c']}\n"
     ]
    }
   ],
   "source": [
    "import pprint  # pretty printing!\n",
    "pprint.pprint(g.g)"
   ]
  },
  {
   "cell_type": "code",
   "execution_count": 57,
   "id": "fourth-midnight",
   "metadata": {},
   "outputs": [
    {
     "data": {
      "image/png": "[encoded data removed]",
      "text/plain": [
       "<Figure size 432x288 with 1 Axes>"
      ]
     },
     "metadata": {},
     "output_type": "display_data"
    }
   ],
   "source": [
    "g.draw_graph()"
   ]
  },
  {
   "cell_type": "code",
   "execution_count": 58,
   "id": "demonstrated-exposure",
   "metadata": {},
   "outputs": [],
   "source": [
    "def traverse_graph(self, start):\n",
    "    \"\"\"Traverse graph starting from given start node.\"\"\"\n",
    "    \n",
    "    q = [start]\n",
    "    visited = []\n",
    "    \n",
    "    while q:\n",
    "        current = q.pop(0)\n",
    "        \n",
    "        # if we've already visited it, we can skip.\n",
    "        if current in visited:\n",
    "            continue\n",
    "        \n",
    "        print(current)\n",
    "        \n",
    "        #we're done with current\n",
    "        visited.append(current)\n",
    "        \n",
    "        # get all directly connected nodes\n",
    "        next_nodes = self.g[current]\n",
    "        \n",
    "        # travers all the nexts\n",
    "        for n in next_nodes:\n",
    "            q.append(n)\n",
    "\n",
    "DiGraph.traverse_graph = traverse_graph"
   ]
  },
  {
   "cell_type": "code",
   "execution_count": 59,
   "id": "least-drive",
   "metadata": {},
   "outputs": [
    {
     "name": "stdout",
     "output_type": "stream",
     "text": [
      "a\n",
      "b\n",
      "c\n",
      "d\n"
     ]
    }
   ],
   "source": [
    "g.traverse_graph('a') # also traverse from e"
   ]
  },
  {
   "cell_type": "code",
   "execution_count": 60,
   "id": "interesting-distributor",
   "metadata": {},
   "outputs": [],
   "source": [
    "def find_path(self, start, end, path=[]):\n",
    "    \"\"\"Find path (not necessarily shortest) from start to end.\"\"\"\n",
    "    # sanity check\n",
    "    if start not in self.g:\n",
    "        raise ValueError(\"Source node not in graph\")\n",
    "    \n",
    "    print(start, \",\", end)\n",
    "    \n",
    "    # save the path we have traversed til now\n",
    "    path = path + [start] # path.append(start)\n",
    "    \n",
    "    # base case\n",
    "    if start == end:\n",
    "        return path\n",
    "    \n",
    "    # recursive case\n",
    "    for node in self.g[start]:\n",
    "        \n",
    "        # need to avoid cycles\n",
    "        if node not in path:\n",
    "            \n",
    "            # find path from next node to\n",
    "            new_path = self.find_path(node, end, path)\n",
    "            if new_path:\n",
    "                return new_path\n",
    "            \n",
    "    # if no path can be found any of the next nodes to the end, there's no path!\n",
    "    return None\n",
    "\n",
    "DiGraph.find_path = find_path"
   ]
  },
  {
   "cell_type": "code",
   "execution_count": 61,
   "id": "alone-young",
   "metadata": {},
   "outputs": [
    {
     "name": "stdout",
     "output_type": "stream",
     "text": [
      "d , d\n"
     ]
    },
    {
     "data": {
      "text/plain": [
       "['d']"
      ]
     },
     "execution_count": 61,
     "metadata": {},
     "output_type": "execute_result"
    }
   ],
   "source": [
    "g.find_path('d', 'd')"
   ]
  },
  {
   "cell_type": "code",
   "execution_count": 62,
   "id": "military-retail",
   "metadata": {},
   "outputs": [
    {
     "name": "stdout",
     "output_type": "stream",
     "text": [
      "a , a\n"
     ]
    },
    {
     "data": {
      "text/plain": [
       "['a']"
      ]
     },
     "execution_count": 62,
     "metadata": {},
     "output_type": "execute_result"
    }
   ],
   "source": [
    "g.find_path('a', 'a')"
   ]
  },
  {
   "cell_type": "code",
   "execution_count": 63,
   "id": "medical-scheme",
   "metadata": {},
   "outputs": [
    {
     "name": "stdout",
     "output_type": "stream",
     "text": [
      "a , c\n",
      "b , c\n",
      "c , c\n"
     ]
    },
    {
     "data": {
      "text/plain": [
       "['a', 'b', 'c']"
      ]
     },
     "execution_count": 63,
     "metadata": {},
     "output_type": "execute_result"
    }
   ],
   "source": [
    "g.find_path('a', 'c')"
   ]
  },
  {
   "cell_type": "code",
   "execution_count": 64,
   "id": "frequent-clerk",
   "metadata": {},
   "outputs": [
    {
     "name": "stdout",
     "output_type": "stream",
     "text": [
      "a , d\n",
      "b , d\n",
      "c , d\n",
      "d , d\n"
     ]
    },
    {
     "data": {
      "text/plain": [
       "['a', 'b', 'c', 'd']"
      ]
     },
     "execution_count": 64,
     "metadata": {},
     "output_type": "execute_result"
    }
   ],
   "source": [
    "g.find_path('a', 'd')"
   ]
  },
  {
   "cell_type": "code",
   "execution_count": 65,
   "id": "authorized-miniature",
   "metadata": {},
   "outputs": [
    {
     "name": "stdout",
     "output_type": "stream",
     "text": [
      "a , f\n",
      "b , f\n",
      "c , f\n",
      "d , f\n",
      "d , f\n",
      "c , f\n",
      "c , f\n",
      "d , f\n",
      "None\n"
     ]
    }
   ],
   "source": [
    "print( g.find_path('a', 'f'))"
   ]
  },
  {
   "cell_type": "markdown",
   "id": "heavy-conference",
   "metadata": {},
   "source": [
    "Find All Paths Instead"
   ]
  },
  {
   "cell_type": "code",
   "execution_count": 66,
   "id": "literary-solution",
   "metadata": {},
   "outputs": [],
   "source": [
    "def find_all_paths(self, start, end, path=[]):\n",
    "    \"\"\"Find path (not necessarily shortest) from start to end.\"\"\"\n",
    "    \n",
    "    # sanity check\n",
    "    if start not in self.g:\n",
    "        raise ValueError(\"Source node not in graph\")\n",
    "        \n",
    "    # save the path we have traversed till now\n",
    "    path = path + [start]\n",
    "    \n",
    "    # base case\n",
    "    if start == end:\n",
    "        return [path]  # return the path in a list since we may have many\n",
    "    \n",
    "    all_paths = []  # changed\n",
    "    \n",
    "    # recursive call \n",
    "    for node in self.g[start]:\n",
    "        \n",
    "        # need to avoid cycles\n",
    "        if node not in path:\n",
    "            \n",
    "            # find path from next node to\n",
    "            all_newpaths = self.find_all_paths(node, end, path)\n",
    "            for newpath in all_newpaths:\n",
    "                all_paths.append(newpath)\n",
    "                \n",
    "    \n",
    "    # if no path can be found from any of the next node to the end, there's no path!\n",
    "    return all_paths\n",
    "\n",
    "DiGraph.find_all_paths = find_all_paths"
   ]
  },
  {
   "cell_type": "code",
   "execution_count": 67,
   "id": "surface-auditor",
   "metadata": {},
   "outputs": [
    {
     "data": {
      "text/plain": [
       "[['a', 'b', 'c', 'd'], ['a', 'b', 'd'], ['a', 'c', 'd']]"
      ]
     },
     "execution_count": 67,
     "metadata": {},
     "output_type": "execute_result"
    }
   ],
   "source": [
    "g.find_all_paths('a', 'd')"
   ]
  },
  {
   "cell_type": "markdown",
   "id": "interstate-satin",
   "metadata": {},
   "source": [
    "Shortest Path"
   ]
  },
  {
   "cell_type": "code",
   "execution_count": 70,
   "id": "touched-blocking",
   "metadata": {},
   "outputs": [],
   "source": [
    "def find_shortest_path(self, start, end, path = []):\n",
    "    \"\"\"Find path (not necessarily shortest ) from star to end\"\"\"\n",
    "    \n",
    "    # sanity check\n",
    "    if start not in self.g:\n",
    "        raise ValueError(\"source node not in graph.\")\n",
    "    \n",
    "    # save the path we have traversed till now\n",
    "    path = path +[start]\n",
    "    \n",
    "    # base case\n",
    "    if start == end:\n",
    "        return path\n",
    "        \n",
    "    shortest = None # changed\n",
    "    \n",
    "    # recursive case\n",
    "    for node in self.g[start]:\n",
    "        \n",
    "        # need avoid cycles\n",
    "        if node not in path:\n",
    "            # find path from the next to\n",
    "            newpath = self.find_shortest_path(node, end, path)\n",
    "            if newpath:\n",
    "                if shortest is None or len(newpath) < len(shortest):   # changed\n",
    "                    shortest = newpath\n",
    "                    \n",
    "    # if no path can be found from any of the next nodes to the end , there's no path!\n",
    "    return shortest\n",
    "DiGraph.find_shortest_path = find_shortest_path"
   ]
  },
  {
   "cell_type": "code",
   "execution_count": 71,
   "id": "common-windows",
   "metadata": {},
   "outputs": [
    {
     "data": {
      "text/plain": [
       "['a', 'b', 'd']"
      ]
     },
     "execution_count": 71,
     "metadata": {},
     "output_type": "execute_result"
    }
   ],
   "source": [
    "g.find_shortest_path('a', 'd')"
   ]
  },
  {
   "cell_type": "code",
   "execution_count": 73,
   "id": "blank-aircraft",
   "metadata": {},
   "outputs": [
    {
     "name": "stdout",
     "output_type": "stream",
     "text": [
      "a , d\n",
      "b , d\n",
      "c , d\n",
      "d , d\n"
     ]
    },
    {
     "data": {
      "text/plain": [
       "['a', 'b', 'c', 'd']"
      ]
     },
     "execution_count": 73,
     "metadata": {},
     "output_type": "execute_result"
    }
   ],
   "source": [
    "g.find_path('a', 'd')"
   ]
  },
  {
   "cell_type": "code",
   "execution_count": null,
   "id": "latin-separation",
   "metadata": {},
   "outputs": [],
   "source": []
  }
 ],
 "metadata": {
  "kernelspec": {
   "display_name": "Python 3",
   "language": "python",
   "name": "python3"
  },
  "language_info": {
   "codemirror_mode": {
    "name": "ipython",
    "version": 3
   },
   "file_extension": ".py",
   "mimetype": "text/x-python",
   "name": "python",
   "nbconvert_exporter": "python",
   "pygments_lexer": "ipython3",
   "version": "3.8.5"
  }
 },
 "nbformat": 4,
 "nbformat_minor": 5
}
