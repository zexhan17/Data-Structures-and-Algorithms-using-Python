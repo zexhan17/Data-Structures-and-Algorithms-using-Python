{
 "metadata": {
  "language_info": {
   "codemirror_mode": {
    "name": "ipython",
    "version": 3
   },
   "file_extension": ".py",
   "mimetype": "text/x-python",
   "name": "python",
   "nbconvert_exporter": "python",
   "pygments_lexer": "ipython3",
   "version": "3.8.5-final"
  },
  "orig_nbformat": 2,
  "kernelspec": {
   "name": "python3",
   "display_name": "Python 3",
   "language": "python"
  }
 },
 "nbformat": 4,
 "nbformat_minor": 2,
 "cells": [
  {
   "source": [
    "Linked List"
   ],
   "cell_type": "markdown",
   "metadata": {}
  },
  {
   "cell_type": "code",
   "execution_count": 23,
   "metadata": {},
   "outputs": [],
   "source": [
    "class Node:\n",
    "    def __init__(self, data=None):\n",
    "        self.val = data\n",
    "        self.next = None\n",
    "class LinkedList:\n",
    "    def __init__(self):\n",
    "        self.head = None"
   ]
  },
  {
   "source": [
    "The PUSH Operation\n",
    "  has two cases:\n",
    "  \n",
    "  1. when there are no nodes\n",
    "  2. when there is already one or more nodes"
   ],
   "cell_type": "markdown",
   "metadata": {}
  },
  {
   "cell_type": "code",
   "execution_count": 24,
   "metadata": {},
   "outputs": [],
   "source": [
    "def push(self, val):\n",
    "    new_node = Node(val)\n",
    "\n",
    "    #no node currently\n",
    "    if self.head is None:\n",
    "        self.head = new_node\n",
    "        return\n",
    "    \n",
    "    # otherwise, reach the end and then insert\n",
    "    last = self.head\n",
    "    while last.next is not None:\n",
    "        last = last.next\n",
    "\n",
    "    last.next = new_node\n",
    "LinkedList.push = push # we can add function to classes even after definition"
   ]
  },
  {
   "source": [
    "The POP operataion has also two cases:\n",
    "\n",
    "1.when there are no nodes\n",
    "2. when there are two or more nodes --in this case we keep two pointers: prev and temp. Move both until temp is the last. tehn set next of prev to None"
   ],
   "cell_type": "markdown",
   "metadata": {}
  },
  {
   "cell_type": "code",
   "execution_count": 25,
   "metadata": {},
   "outputs": [],
   "source": [
    "def pop(self):\n",
    "    if self.head is None:\n",
    "        raise Exception(\"Cannot pop. NO value.\")\n",
    "    # case where there is only one node\n",
    "    if self.head.next is None:\n",
    "        print(\"case 1\")\n",
    "        val = self.head.val\n",
    "        self.head = None\n",
    "        self.head = None # automatic garbage collection\n",
    "        return val\n",
    "    # case where there is 2 or more nodes\n",
    "    # reach the previous to least node\n",
    "    print(\"case 2\")\n",
    "    temp = self.head\n",
    "    while temp.next is not None:\n",
    "        prev = temp\n",
    "        temp = temp.next\n",
    "    val = temp.val\n",
    "    prev.next = None\n",
    "    return val\n",
    "LinkedList.pop = pop"
   ]
  },
  {
   "source": [
    "conversion to string:\n",
    "python has a special function __str__.This is called whenever a cast to string is made.(These are called dunder (double underscore) functions.)"
   ],
   "cell_type": "markdown",
   "metadata": {}
  },
  {
   "cell_type": "code",
   "execution_count": 26,
   "metadata": {},
   "outputs": [],
   "source": [
    "def __str__(self):\n",
    "    ret_str = '['\n",
    "    temp = self.head\n",
    "    while temp is not None: # or just while temp:\n",
    "        ret_str += str(temp.val) + ', '\n",
    "        temp = temp.next\n",
    "    ret_str = ret_str.rstrip(', ')\n",
    "    ret_str += ']'\n",
    "    return ret_str\n",
    "LinkedList.__str__ =  __str__"
   ]
  },
  {
   "cell_type": "code",
   "execution_count": 27,
   "metadata": {},
   "outputs": [
    {
     "output_type": "stream",
     "name": "stdout",
     "text": [
      "[1, 2, 3]\n"
     ]
    }
   ],
   "source": [
    "l = LinkedList()\n",
    "l.push(1)\n",
    "l.push(2)\n",
    "l.push(3)\n",
    "print(l)"
   ]
  },
  {
   "cell_type": "code",
   "execution_count": 28,
   "metadata": {},
   "outputs": [
    {
     "output_type": "stream",
     "name": "stdout",
     "text": [
      "case 2\n3\ncase 2\n2\ncase 1\n1\n[]\n"
     ]
    }
   ],
   "source": [
    "print(l.pop())\n",
    "print(l.pop())\n",
    "print(l.pop())\n",
    "print(l)"
   ]
  }
 ]
}