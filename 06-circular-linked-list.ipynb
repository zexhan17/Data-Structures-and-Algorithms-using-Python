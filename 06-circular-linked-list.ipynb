{
 "metadata": {
  "language_info": {
   "codemirror_mode": {
    "name": "ipython",
    "version": 3
   },
   "file_extension": ".py",
   "mimetype": "text/x-python",
   "name": "python",
   "nbconvert_exporter": "python",
   "pygments_lexer": "ipython3",
   "version": "3.8.5-final"
  },
  "orig_nbformat": 2,
  "kernelspec": {
   "name": "python3",
   "display_name": "Python 3",
   "language": "python"
  }
 },
 "nbformat": 4,
 "nbformat_minor": 2,
 "cells": [
  {
   "source": [
    "This is also very similar to regular linked list -- except the last node is linked to the head thus creating a ring.\n",
    "Due to this, we can't loop until None is reched \"because we will never have a None in the next now-- even for a single node! So, we need to keep track of the head and always loop unitl we reach back to head"
   ],
   "cell_type": "markdown",
   "metadata": {}
  },
  {
   "cell_type": "code",
   "execution_count": 1,
   "metadata": {},
   "outputs": [],
   "source": [
    "class Node:\n",
    "    def __init__(self, data=None):\n",
    "        self.val = data\n",
    "        self.next = None\n",
    "class Ring:\n",
    "    def __init__ (self):\n",
    "        self.head = None"
   ]
  },
  {
   "source": [
    "Lets explain this reasoning through trying to output the ring."
   ],
   "cell_type": "markdown",
   "metadata": {}
  },
  {
   "cell_type": "code",
   "execution_count": 2,
   "metadata": {},
   "outputs": [],
   "source": [
    "def __str__(self):\n",
    "    ret_str = '['\n",
    "    temp = self.head\n",
    "    while temp is not None:\n",
    "        ret_str += str(temp.val) + ', '\n",
    "        temp = temp.next\n",
    "\n",
    "        if temp == self.head: # different for ring change\n",
    "            break\n",
    "    ret_str = ret_str.rstrip(', ')\n",
    "    ret_str += ']'\n",
    "\n",
    "    return ret_str\n",
    "Ring.__str__ = __str__"
   ]
  },
  {
   "cell_type": "code",
   "execution_count": 3,
   "metadata": {},
   "outputs": [],
   "source": [
    "def _get_last(self): # helper funciton (change)\n",
    "    # no node, no last\n",
    "    if self.head is None:\n",
    "        return None\n",
    "    \n",
    "    # at least two nodes: advance once\n",
    "    temp = self.head.next\n",
    "    while temp.next != self.head:\n",
    "        temp = temp.next\n",
    "    return temp\n",
    "Ring._get_last = _get_last"
   ]
  },
  {
   "cell_type": "code",
   "execution_count": 10,
   "metadata": {},
   "outputs": [],
   "source": [
    "def insert(self, index, val):\n",
    "    new_node = Node(val)\n",
    "\n",
    "    last = self._get_last() # need last for ring (change)\n",
    "    # insertion at index 0 is different\n",
    "    if index == 0:\n",
    "        new_node.next = self.head\n",
    "        self.head = new_node\n",
    "\n",
    "        # also need to set the last pointer to the this new head (change)\n",
    "        if last is None:\n",
    "            self.head.next = self.head # first node ever being inserted\n",
    "        else:\n",
    "            last.next = new_node\n",
    "            \n",
    "        return\n",
    "    if self.head is None: # and index > 0:\n",
    "        raise IndexError(\"cannot insert at \" + str(index) + \"because list is empty\")\n",
    "    # for other indices\n",
    "    temp = self.head        \n",
    "    counter = 0\n",
    "    while temp is not None and counter < index:\n",
    "        prev = temp  \n",
    "        temp = temp.next\n",
    "        counter += 1\n",
    "        \n",
    "    prev.next = new_node\n",
    "    new_node.next = temp\n",
    "\n",
    "Ring.insert = insert"
   ]
  },
  {
   "cell_type": "code",
   "execution_count": 12,
   "metadata": {},
   "outputs": [
    {
     "output_type": "stream",
     "name": "stdout",
     "text": [
      "[2, 5, 3, 1]\n"
     ]
    }
   ],
   "source": [
    "r = Ring()\n",
    "# r.insert(1, 1)\n",
    "r.insert(0, 1)\n",
    "r.insert(0, 2)\n",
    "r.insert(1, 3)\n",
    "r.insert(7, 5) # different behavior since its a ring\n",
    "print(r)"
   ]
  },
  {
   "cell_type": "code",
   "execution_count": 15,
   "metadata": {},
   "outputs": [],
   "source": [
    "r._get_last().next = r.head # just check if its actually a ring"
   ]
  },
  {
   "cell_type": "code",
   "execution_count": 16,
   "metadata": {},
   "outputs": [],
   "source": [
    "def remove(self, val):\n",
    "    # empty ring case\n",
    "    if self.head is None:\n",
    "        return\n",
    "    temp = self.head\n",
    "    last = self._get_last() # (change)\n",
    "\n",
    "    # first node matches case # (change)\n",
    "    if temp.val == val:\n",
    "        if last == self.head:\n",
    "            self.head == None # just one node, now gone\n",
    "        else:\n",
    "            self.head = temp.next\n",
    "            last.next = self.head\n",
    "        return\n",
    "    # lets move to next nodes\n",
    "    # temp holds the value of the node that will be detected\n",
    "    prev = temp # change\n",
    "    temp = temp.next # change\n",
    "\n",
    "    while temp != self.head: # change\n",
    "        if temp.val == val:\n",
    "            break\n",
    "        prev = temp\n",
    "        temp = temp.next\n",
    "    if temp == self.head: # not fount\n",
    "        return\n",
    "    prev.next = temp.next # just lose the refernce to delete node\n",
    "Ring.remove = remove"
   ]
  },
  {
   "cell_type": "code",
   "execution_count": 17,
   "metadata": {},
   "outputs": [
    {
     "output_type": "stream",
     "name": "stdout",
     "text": [
      "[1]\n[1]\n"
     ]
    }
   ],
   "source": [
    "r = Ring()\n",
    "r.insert(0, 1)\n",
    "#r.insert(0, 1)\n",
    "#r.insert(0, 1)\n",
    "#r.insert(0, 1)\n",
    "\n",
    "print(r)\n",
    "r.remove(1)\n",
    "print(r)"
   ]
  },
  {
   "cell_type": "code",
   "execution_count": null,
   "metadata": {},
   "outputs": [],
   "source": []
  }
 ]
}