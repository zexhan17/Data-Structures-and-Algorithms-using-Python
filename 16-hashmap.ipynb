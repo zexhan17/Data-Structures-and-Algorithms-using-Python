{
 "cells": [
  {
   "cell_type": "markdown",
   "metadata": {},
   "source": [
    "# Hash Tables"
   ]
  },
  {
   "cell_type": "code",
   "execution_count": 1,
   "metadata": {},
   "outputs": [],
   "source": [
    "class HashMap:\n",
    "    def __init__(self):\n",
    "        self.size = 10\n",
    "        self.map = [None] * self.size"
   ]
  },
  {
   "cell_type": "code",
   "execution_count": 2,
   "metadata": {},
   "outputs": [],
   "source": [
    "def _get_hash(self, key):\n",
    "    return key % self.size\n",
    "\n",
    "HashMap._get_hash = _get_hash"
   ]
  },
  {
   "cell_type": "code",
   "execution_count": 10,
   "metadata": {},
   "outputs": [],
   "source": [
    "def add(self, key, value):\n",
    "    key_hash = self._get_hash(key)\n",
    "    key_value = [key, value]\n",
    "    \n",
    "    # insert or update: \"upsert\"\n",
    "    \n",
    "    self.map[key_hash] = [ key_value ] # notice the double list. we'll get to it in a minute\n",
    "    return True\n",
    "HashMap.add = add"
   ]
  },
  {
   "cell_type": "code",
   "execution_count": 11,
   "metadata": {},
   "outputs": [],
   "source": [
    "def get(self, key):\n",
    "    key_hash = self._get_hash(key)\n",
    "    if self.map[key_hash] is not None:\n",
    "        for pair in self.map[key_hash]:\n",
    "            if pair[0] == key:\n",
    "                return pair[1]\n",
    "    \n",
    "    raise KeyError(str(key))\n",
    "\n",
    "HashMap.get = get"
   ]
  },
  {
   "cell_type": "code",
   "execution_count": 12,
   "metadata": {},
   "outputs": [
    {
     "name": "stdout",
     "output_type": "stream",
     "text": [
      "0 --- a\n",
      "1 --- b\n",
      "2 --- c\n"
     ]
    }
   ],
   "source": [
    "l = ['a', 'b', 'c']\n",
    "for i, item in enumerate(l):\n",
    "    print(i, \"---\", item)"
   ]
  },
  {
   "cell_type": "code",
   "execution_count": 13,
   "metadata": {},
   "outputs": [],
   "source": [
    "def __str__(self):\n",
    "    ret = \"\"\n",
    "    \n",
    "    for i, item in enumerate(self.map):\n",
    "        if item is not None:\n",
    "            ret += str(i) + \": \" + str(item) + \"\\n\"\n",
    "    return ret\n",
    "\n",
    "HashMap.__str__ = __str__"
   ]
  },
  {
   "cell_type": "code",
   "execution_count": 14,
   "metadata": {},
   "outputs": [
    {
     "data": {
      "text/plain": [
       "True"
      ]
     },
     "execution_count": 14,
     "metadata": {},
     "output_type": "execute_result"
    }
   ],
   "source": [
    "h = HashMap()\n",
    "\n",
    "h.add(17, \"seventeen\")\n",
    "h.add(26, \"Twenty six\")\n",
    "h.add(35, \"Thirty five\")\n",
    "h.add(26, \"Twenty six updated\")"
   ]
  },
  {
   "cell_type": "code",
   "execution_count": 15,
   "metadata": {},
   "outputs": [
    {
     "name": "stdout",
     "output_type": "stream",
     "text": [
      "5: [[35, 'Thirty five']]\n",
      "6: [[26, 'Twenty six updated']]\n",
      "7: [[17, 'seventeen']]\n",
      "\n"
     ]
    }
   ],
   "source": [
    "print(h)"
   ]
  },
  {
   "cell_type": "code",
   "execution_count": 16,
   "metadata": {},
   "outputs": [
    {
     "name": "stdout",
     "output_type": "stream",
     "text": [
      "Twenty six updated\n"
     ]
    }
   ],
   "source": [
    "print(h.get(26))"
   ]
  },
  {
   "cell_type": "markdown",
   "metadata": {},
   "source": [
    "# Collision and Acoidance"
   ]
  },
  {
   "cell_type": "code",
   "execution_count": 10,
   "metadata": {},
   "outputs": [
    {
     "name": "stdout",
     "output_type": "stream",
     "text": [
      "5: [5]\n",
      "6: [6]\n",
      "7: [7]\n",
      "\n"
     ]
    }
   ],
   "source": [
    "h = HashMap()\n",
    "\n",
    "h.add(17, \"seventeen\")\n",
    "h.add(26, \"Twenty six\")\n",
    "h.add(35, \"Thirty five\")\n",
    "h.add(26, \"Twenty six updated\")\n",
    "h.add(887, \"large number\")\n",
    "\n",
    "print(h)"
   ]
  },
  {
   "cell_type": "code",
   "execution_count": 11,
   "metadata": {},
   "outputs": [],
   "source": [
    "def add(self, key, value):\n",
    "    key_hash = self._get_hash(key)\n",
    "    key_value = [key, value]\n",
    "    \n",
    "    if self.map[key_hash] is None:\n",
    "        self.map[key_hash] = [key_value]\n",
    "        return True\n",
    "    \n",
    "    else:\n",
    "        #check if it's an update\n",
    "        for pair in self.map[key_hash]:\n",
    "            if pair in self.map[key_hash]:\n",
    "                if pair[0] == key:\n",
    "                    print(\"updating: \", key)\n",
    "                    pair[1] = value\n",
    "                    return True\n",
    "        # nope, it's a collision: insert it\n",
    "        self.map[key_hash].append(key_value)\n",
    "        return True\n",
    "    \n",
    "HashMap.add = add"
   ]
  },
  {
   "cell_type": "code",
   "execution_count": 12,
   "metadata": {},
   "outputs": [
    {
     "name": "stdout",
     "output_type": "stream",
     "text": [
      "updating:  26\n",
      "5: [[35, 'Thirty five']]\n",
      "6: [[26, 'Twenty six updated']]\n",
      "7: [[17, 'seventeen'], [887, 'large number']]\n",
      "\n"
     ]
    }
   ],
   "source": [
    "h = HashMap()\n",
    "\n",
    "h.add(17, \"seventeen\")\n",
    "h.add(26, \"Twenty six\")\n",
    "h.add(35, \"Thirty five\")\n",
    "h.add(26, \"Twenty six updated\")\n",
    "h.add(887, \"large number\")\n",
    "\n",
    "print(h)"
   ]
  },
  {
   "cell_type": "code",
   "execution_count": 13,
   "metadata": {},
   "outputs": [],
   "source": [
    "def delete(self, key):\n",
    "    key_hash = self._get_hash(key)\n",
    "    \n",
    "    if self.map[key_hash] is None:\n",
    "        raise KeyError(str(key))\n",
    "        \n",
    "    for i in range(0, len(self.map[key_hash])):\n",
    "        if self.map[key_hash][i][0] == key:\n",
    "            self.map[key_hash].pop(i)\n",
    "            return True\n",
    "\n",
    "HashMap.delete = delete"
   ]
  },
  {
   "cell_type": "code",
   "execution_count": 14,
   "metadata": {},
   "outputs": [
    {
     "data": {
      "text/plain": [
       "True"
      ]
     },
     "execution_count": 14,
     "metadata": {},
     "output_type": "execute_result"
    }
   ],
   "source": [
    "h.delete(17)"
   ]
  },
  {
   "cell_type": "code",
   "execution_count": 15,
   "metadata": {},
   "outputs": [
    {
     "name": "stdout",
     "output_type": "stream",
     "text": [
      "5: [[35, 'Thirty five']]\n",
      "6: [[26, 'Twenty six updated']]\n",
      "7: [[887, 'large number']]\n",
      "\n"
     ]
    }
   ],
   "source": [
    "print(h)"
   ]
  },
  {
   "cell_type": "code",
   "execution_count": null,
   "metadata": {},
   "outputs": [],
   "source": []
  }
 ],
 "metadata": {
  "kernelspec": {
   "display_name": "Python 3",
   "language": "python",
   "name": "python3"
  },
  "language_info": {
   "codemirror_mode": {
    "name": "ipython",
    "version": 3
   },
   "file_extension": ".py",
   "mimetype": "text/x-python",
   "name": "python",
   "nbconvert_exporter": "python",
   "pygments_lexer": "ipython3",
   "version": "3.8.5"
  }
 },
 "nbformat": 4,
 "nbformat_minor": 4
}
