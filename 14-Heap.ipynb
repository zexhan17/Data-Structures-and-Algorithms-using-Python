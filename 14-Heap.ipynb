{
 "cells": [
  {
   "cell_type": "markdown",
   "metadata": {},
   "source": [
    "# Heap Data Structure and Heap Sort"
   ]
  },
  {
   "cell_type": "markdown",
   "metadata": {},
   "source": [
    "# Heap Data Structure - MaxHeap and MinHeap"
   ]
  },
  {
   "cell_type": "code",
   "execution_count": 8,
   "metadata": {},
   "outputs": [
    {
     "name": "stdout",
     "output_type": "stream",
     "text": [
      "7\n",
      "6\n",
      "5\n",
      "4\n",
      "3\n",
      "2\n",
      "1\n",
      "0\n"
     ]
    }
   ],
   "source": [
    "n = 8\n",
    "for i in reversed( range( n )):\n",
    "    print(i)"
   ]
  },
  {
   "cell_type": "code",
   "execution_count": 9,
   "metadata": {},
   "outputs": [],
   "source": [
    "def heapify(lst, n, root):\n",
    "    \"\"\"Heapify the root element of lst which has n elements in total.\"\"\"\n",
    "    \n",
    "    largest = root\n",
    "    l = 2*root + 1\n",
    "    r = 2*root + 2\n",
    "    if l < n and lst[l] > lst[largest]:\n",
    "            largest = l;\n",
    "            \n",
    "    if r < n and lst[r] > lst[largest]:\n",
    "        largest = r\n",
    "    \n",
    "    if largest != root:\n",
    "        lst[root], lst[largest] = lst[largest], lst[root]\n",
    "        \n",
    "        heapify(lst, n, largest)"
   ]
  },
  {
   "cell_type": "code",
   "execution_count": 10,
   "metadata": {},
   "outputs": [],
   "source": [
    "def build_heap(lst):\n",
    "    \"\"\"Construct heap from any list by reapeatedly applying from bottom no-leaf to top.\"\"\"\n",
    "    \n",
    "    n = len(lst)\n",
    "    \n",
    "    for i in reversed( range(n // 2) ):\n",
    "        # print(\" Heapify: \", lst[i])\n",
    "        heapify(lst, n, i)"
   ]
  },
  {
   "cell_type": "code",
   "execution_count": 11,
   "metadata": {},
   "outputs": [],
   "source": [
    "heap = [100, 5, 3, 2, 8, 15, 6, 102]"
   ]
  },
  {
   "cell_type": "code",
   "execution_count": 12,
   "metadata": {},
   "outputs": [
    {
     "name": "stdout",
     "output_type": "stream",
     "text": [
      "[100, 5, 3, 2, 8, 15, 6, 102]\n",
      "[102, 100, 15, 5, 8, 3, 6, 2]\n"
     ]
    }
   ],
   "source": [
    "print(heap)\n",
    "build_heap(heap)\n",
    "print(heap)"
   ]
  },
  {
   "cell_type": "markdown",
   "metadata": {},
   "source": [
    "# Heap Sort"
   ]
  },
  {
   "cell_type": "code",
   "execution_count": 13,
   "metadata": {},
   "outputs": [],
   "source": [
    "def heap_sort(lst):\n",
    "    \"\"\"Perform Heap Sort by building a Max Heap from the list and then repeatedly retrieving the max and heapifying the rest. \"\"\"\n",
    "    \n",
    "    n = len(lst)\n",
    "    \n",
    "    # Build max heap\n",
    "    build_heap(lst)\n",
    "    \n",
    "    for i in reversed( range( n)):\n",
    "        # swap\n",
    "        lst[i], lst[0] = lst[0], lst[i]\n",
    "        \n",
    "        # Heapify root element again but only until the ith element\n",
    "        heapify(lst, i, 0)"
   ]
  },
  {
   "cell_type": "code",
   "execution_count": null,
   "metadata": {},
   "outputs": [],
   "source": [
    "heap = [100, 5, 3, 2, 8, 15, 6, 102]\n",
    "print(heap)\n",
    "heap_sort(heap)\n",
    "print(heap)"
   ]
  },
  {
   "cell_type": "code",
   "execution_count": null,
   "metadata": {},
   "outputs": [],
   "source": []
  }
 ],
 "metadata": {
  "kernelspec": {
   "display_name": "Python 3",
   "language": "python",
   "name": "python3"
  },
  "language_info": {
   "codemirror_mode": {
    "name": "ipython",
    "version": 3
   },
   "file_extension": ".py",
   "mimetype": "text/x-python",
   "name": "python",
   "nbconvert_exporter": "python",
   "pygments_lexer": "ipython3",
   "version": "3.8.5"
  }
 },
 "nbformat": 4,
 "nbformat_minor": 4
}
