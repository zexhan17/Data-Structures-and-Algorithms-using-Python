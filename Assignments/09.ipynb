{
 "cells": [
  {
   "cell_type": "markdown",
   "id": "separate-saint",
   "metadata": {},
   "source": [
    "Declare a two dimensional array of size 4x3 and initialize it with random values using some\n",
    "random function;\n",
    "\n",
    "-Reverse print the values of 2D array\n",
    "\n",
    "-Take transpose of the 2D array\n",
    "\n",
    "-Sum the main diagonal entries\n",
    "\n",
    "-Declare another 2D array of size 3x4, initialize it with user input values and do the matrix\n",
    "multiplication\n",
    "\n",
    "-Display the resultant matrix after multiplication"
   ]
  },
  {
   "cell_type": "code",
   "execution_count": null,
   "id": "deluxe-thesis",
   "metadata": {},
   "outputs": [],
   "source": [
    "import numpy as np"
   ]
  },
  {
   "cell_type": "code",
   "execution_count": null,
   "id": "intense-hungarian",
   "metadata": {},
   "outputs": [],
   "source": [
    "import random"
   ]
  },
  {
   "cell_type": "code",
   "execution_count": null,
   "id": "sustainable-computer",
   "metadata": {},
   "outputs": [],
   "source": [
    "def initialize_random():\n",
    "    rows = 4\n",
    "    columns = 3\n",
    "    mylist = [[0 for x in range(columns)] for x in range(rows)]\n",
    "    for i in range(len(mylist)):\n",
    "        for j in range(len(mylist[i])):\n",
    "            mylist[i][j] = random.choice(range(50))\n",
    "    \n",
    "    return mylist"
   ]
  },
  {
   "cell_type": "code",
   "execution_count": null,
   "id": "distributed-trial",
   "metadata": {},
   "outputs": [],
   "source": [
    "arr = initialize_random()"
   ]
  },
  {
   "cell_type": "code",
   "execution_count": null,
   "id": "popular-haven",
   "metadata": {},
   "outputs": [],
   "source": [
    "print(arr)"
   ]
  },
  {
   "cell_type": "markdown",
   "id": "latest-maldives",
   "metadata": {},
   "source": [
    "Reverse print the values of 2D array"
   ]
  },
  {
   "cell_type": "code",
   "execution_count": null,
   "id": "looking-sitting",
   "metadata": {},
   "outputs": [],
   "source": [
    "print(list(reversed(arr))) # reverse"
   ]
  },
  {
   "cell_type": "markdown",
   "id": "opening-contents",
   "metadata": {},
   "source": [
    "Take transpose of the 2D array"
   ]
  },
  {
   "cell_type": "code",
   "execution_count": null,
   "id": "talented-cancer",
   "metadata": {},
   "outputs": [],
   "source": [
    "def transpose(arr):\n",
    "    \"\"\"star * operator will first unpack the values of 2D list and then zip function will pack them again in opposite manner\"\"\"\n",
    "    return list(zip(*arr))"
   ]
  },
  {
   "cell_type": "code",
   "execution_count": null,
   "id": "academic-output",
   "metadata": {},
   "outputs": [],
   "source": [
    "transpose(arr)  # transpose"
   ]
  },
  {
   "cell_type": "markdown",
   "id": "laden-ordinance",
   "metadata": {},
   "source": [
    "Sum the main diagonal Entries"
   ]
  },
  {
   "cell_type": "code",
   "execution_count": null,
   "id": "affecting-bridges",
   "metadata": {},
   "outputs": [],
   "source": [
    "print ('Diagonal (sum): ', np.trace(arr))\n",
    "print ('Diagonal (elements): ', np.diagonal(arr))"
   ]
  },
  {
   "cell_type": "markdown",
   "id": "plain-flooring",
   "metadata": {},
   "source": [
    "Declare another 2D array of size 3x4, initialize it with user input values"
   ]
  },
  {
   "cell_type": "code",
   "execution_count": null,
   "id": "mediterranean-emergency",
   "metadata": {},
   "outputs": [],
   "source": [
    "def user_input():\n",
    "    rows = 3\n",
    "    columns = 4\n",
    "    mylist = [[0 for x in range(columns)] for x in range(rows)]\n",
    "    for i in range(len(mylist)):\n",
    "        for j in range(len(mylist[i])):\n",
    "            mylist[i][j] = int(input())\n",
    "    \n",
    "    return mylist"
   ]
  },
  {
   "cell_type": "code",
   "execution_count": null,
   "id": "harmful-bottom",
   "metadata": {},
   "outputs": [],
   "source": [
    "arr2 = user_input()"
   ]
  },
  {
   "cell_type": "code",
   "execution_count": null,
   "id": "injured-moses",
   "metadata": {},
   "outputs": [],
   "source": [
    "print(arr2)"
   ]
  },
  {
   "cell_type": "markdown",
   "id": "governing-monkey",
   "metadata": {},
   "source": [
    "Matrix Multiplication"
   ]
  },
  {
   "cell_type": "code",
   "execution_count": null,
   "id": "polyphonic-perth",
   "metadata": {},
   "outputs": [],
   "source": [
    "ret = np.dot(arr, arr2)"
   ]
  },
  {
   "cell_type": "code",
   "execution_count": null,
   "id": "looking-track",
   "metadata": {},
   "outputs": [],
   "source": [
    "print(ret)"
   ]
  },
  {
   "cell_type": "code",
   "execution_count": null,
   "id": "apart-praise",
   "metadata": {},
   "outputs": [],
   "source": []
  }
 ],
 "metadata": {
  "kernelspec": {
   "display_name": "Python 3",
   "language": "python",
   "name": "python3"
  },
  "language_info": {
   "codemirror_mode": {
    "name": "ipython",
    "version": 3
   },
   "file_extension": ".py",
   "mimetype": "text/x-python",
   "name": "python",
   "nbconvert_exporter": "python",
   "pygments_lexer": "ipython3",
   "version": "3.8.5"
  }
 },
 "nbformat": 4,
 "nbformat_minor": 5
}
