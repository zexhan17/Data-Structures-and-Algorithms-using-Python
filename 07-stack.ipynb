{
 "metadata": {
  "language_info": {
   "codemirror_mode": {
    "name": "ipython",
    "version": 3
   },
   "file_extension": ".py",
   "mimetype": "text/x-python",
   "name": "python",
   "nbconvert_exporter": "python",
   "pygments_lexer": "ipython3",
   "version": "3.8.5-final"
  },
  "orig_nbformat": 2,
  "kernelspec": {
   "name": "python3",
   "display_name": "Python 3",
   "language": "python"
  }
 },
 "nbformat": 4,
 "nbformat_minor": 2,
 "cells": [
  {
   "source": [
    "A stack is essentially free in python. Here's what happens when we use python's list."
   ],
   "cell_type": "markdown",
   "metadata": {}
  },
  {
   "cell_type": "code",
   "execution_count": 2,
   "metadata": {},
   "outputs": [
    {
     "output_type": "stream",
     "name": "stdout",
     "text": [
      "[12, 5, 55]\n55\n5\n12\n"
     ]
    }
   ],
   "source": [
    "s = []\n",
    "s.append(12) # append is the same as push\n",
    "s.append(5)\n",
    "s.append(55)\n",
    "\n",
    "print(s)\n",
    "\n",
    "print(s.pop())\n",
    "print(s.pop())\n",
    "print(s.pop())\n",
    "#print(s.pop()) #<--IndexError"
   ]
  },
  {
   "cell_type": "code",
   "execution_count": 4,
   "metadata": {},
   "outputs": [
    {
     "output_type": "stream",
     "name": "stdout",
     "text": [
      "[1, 5, 55]\n5\n"
     ]
    }
   ],
   "source": [
    "s = []\n",
    "s.append(1)\n",
    "s.append(5)\n",
    "s.append(55)\n",
    "\n",
    "print(s)\n",
    "print(s[1]) # in a stack, we shouldn't be able to do this!"
   ]
  },
  {
   "source": [
    "Writing our own"
   ],
   "cell_type": "markdown",
   "metadata": {}
  },
  {
   "cell_type": "code",
   "execution_count": 6,
   "metadata": {},
   "outputs": [],
   "source": [
    "class Stack:\n",
    "    def __init__(self):\n",
    "        self.l = []\n",
    "        \n",
    "    def push(self, val):\n",
    "        self.l.append(val)\n",
    "\n",
    "    def pop(self):\n",
    "        return self.l.pop()\n",
    "\n",
    "    def peek(self):\n",
    "        return self.l[-1]"
   ]
  },
  {
   "cell_type": "code",
   "execution_count": 7,
   "metadata": {},
   "outputs": [],
   "source": [
    "s = Stack()\n",
    "s.push(1)\n",
    "s.push(2)\n",
    "s.push(3)\n",
    "# print(s[1]) # <--- error..which, for us, is success since we have a stack and that's what we want.\n",
    "\n",
    "\n",
    "#print(s.l[1])\n",
    "#print(s.pop)"
   ]
  },
  {
   "cell_type": "code",
   "execution_count": 8,
   "metadata": {},
   "outputs": [
    {
     "output_type": "stream",
     "name": "stdout",
     "text": [
      "3\n3\n2\n2\n"
     ]
    }
   ],
   "source": [
    "print(s.peek())\n",
    "print(s.pop())\n",
    "print(s.peek())\n",
    "print(s.pop())"
   ]
  },
  {
   "source": [
    "Case study: BRacket Matching"
   ],
   "cell_type": "markdown",
   "metadata": {}
  },
  {
   "cell_type": "code",
   "execution_count": 9,
   "metadata": {},
   "outputs": [
    {
     "output_type": "execute_result",
     "data": {
      "text/plain": [
       "{'1': '4', '2': '5', '3': '6'}"
      ]
     },
     "metadata": {},
     "execution_count": 9
    }
   ],
   "source": [
    "a = '123'\n",
    "b = '456'\n",
    "dict(zip(a,b))"
   ]
  },
  {
   "cell_type": "code",
   "execution_count": 10,
   "metadata": {},
   "outputs": [
    {
     "output_type": "stream",
     "name": "stdout",
     "text": [
      "{'(': ')', '{': '}', '[': ']'}\n"
     ]
    },
    {
     "output_type": "execute_result",
     "data": {
      "text/plain": [
       "'}'"
      ]
     },
     "metadata": {},
     "execution_count": 10
    }
   ],
   "source": [
    "opening = '({['\n",
    "closing = ')}]'\n",
    "mapping = dict(zip(opening, closing))\n",
    "print(mapping)\n",
    "mapping['{']\n"
   ]
  },
  {
   "cell_type": "code",
   "execution_count": 12,
   "metadata": {},
   "outputs": [],
   "source": [
    "def is_matched(string):\n",
    "    opening = '({['\n",
    "    closing = ')}]'\n",
    "    mapping = dict(zip(opening, closing))\n",
    "\n",
    "    stack = []\n",
    "\n",
    "    for c in string:\n",
    "        # case 1\n",
    "        if c not in mapping.values() and c not in mapping.keys():\n",
    "            continue\n",
    "        # case 2\n",
    "        # automatically checks only  starting brackets\n",
    "        if c in mapping:\n",
    "            stack.append(mapping[c]) # we'll be looking for corresponding bracket later\n",
    "        # case 3: has to be closing bracket if we get here\n",
    "        elif len(stack) == 0 or c != stack.pop():\n",
    "            return False\n",
    "    return len(stack) == 0"
   ]
  },
  {
   "cell_type": "code",
   "execution_count": 13,
   "metadata": {},
   "outputs": [
    {
     "output_type": "execute_result",
     "data": {
      "text/plain": [
       "True"
      ]
     },
     "metadata": {},
     "execution_count": 13
    }
   ],
   "source": [
    "string = \"{[[]]{()}}\"\n",
    "is_matched(string)"
   ]
  },
  {
   "cell_type": "code",
   "execution_count": 14,
   "metadata": {},
   "outputs": [
    {
     "output_type": "execute_result",
     "data": {
      "text/plain": [
       "True"
      ]
     },
     "metadata": {},
     "execution_count": 14
    }
   ],
   "source": [
    "string = \" 2 + (3 * 5) * ((2 * 2) 5)\"\n",
    "is_matched(string)"
   ]
  },
  {
   "cell_type": "code",
   "execution_count": 15,
   "metadata": {},
   "outputs": [
    {
     "output_type": "execute_result",
     "data": {
      "text/plain": [
       "False"
      ]
     },
     "metadata": {},
     "execution_count": 15
    }
   ],
   "source": [
    "string = \" 2 + (3 * 5) * ((2 * 2) 5) )\"\n",
    "is_matched(string)"
   ]
  },
  {
   "source": [
    "Case study: Binary to Decimal Conversion"
   ],
   "cell_type": "markdown",
   "metadata": {}
  },
  {
   "cell_type": "code",
   "execution_count": 17,
   "metadata": {},
   "outputs": [],
   "source": [
    "def dec_to_bin(num):\n",
    "    s1 = []\n",
    "    while num != 0:\n",
    "        remainder = num % 2 # remainder will always be 0 or 1\n",
    "        num = num // 2 # division by 2 gets of least significant binary digit 101 // 2 = 10\n",
    "        s1.append(remainder)\n",
    "    ret = ''\n",
    "    while s1:\n",
    "        ret += str(s1.pop()) # comes out in reverse order of course\n",
    "    return ret"
   ]
  },
  {
   "cell_type": "code",
   "execution_count": 20,
   "metadata": {},
   "outputs": [
    {
     "output_type": "execute_result",
     "data": {
      "text/plain": [
       "'100'"
      ]
     },
     "metadata": {},
     "execution_count": 20
    }
   ],
   "source": [
    "dec_to_bin(4)"
   ]
  }
 ]
}