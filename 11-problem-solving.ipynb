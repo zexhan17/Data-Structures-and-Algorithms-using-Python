{
 "cells": [
  {
   "cell_type": "markdown",
   "metadata": {},
   "source": [
    "# Exaple Problems"
   ]
  },
  {
   "cell_type": "code",
   "execution_count": 33,
   "metadata": {},
   "outputs": [],
   "source": [
    "class Node:\n",
    "    def __init__(self, data=None):\n",
    "        self.val = data\n",
    "        self.next = None\n",
    "\n",
    "class LinkedList:\n",
    "    def __init__(self):\n",
    "        self.head = None\n",
    "\n",
    "    def push(self, val):\n",
    "        new_node = Node(val)\n",
    "\n",
    "        #no node currently\n",
    "        if self.head is None:\n",
    "            self.head = new_node\n",
    "            return\n",
    "    \n",
    "        # otherwise, reach the end and then insert\n",
    "        last = self.head\n",
    "        while last.next is not None:\n",
    "            last = last.next\n",
    "\n",
    "        last.next = new_node\n",
    "\n",
    "    def pop(self):\n",
    "        if self.head is None:\n",
    "            raise Exception(\"Cannot pop. NO value.\")\n",
    "        # case where there is only one node\n",
    "        if self.head.next is None:\n",
    "            print(\"case 1\")\n",
    "            val = self.head.val\n",
    "            self.head = None # automatic garbage collection\n",
    "            return val\n",
    "    # case where there is 2 or more nodes\n",
    "    # reach the previous to last node\n",
    "        print(\"case 2\")\n",
    "        temp = self.head\n",
    "        while temp.next is not None:\n",
    "            prev = temp\n",
    "            temp = temp.next\n",
    "    \n",
    "        val = temp.val\n",
    "        prev.next = None\n",
    "        return val\n",
    "    def _get_last(self): # helper function (change)\n",
    "        # no node, no last\n",
    "        if self.head is None:\n",
    "            return None\n",
    "        # at least two nodes: advance once\n",
    "        temp = self.head.next\n",
    "        while temp.next is not None:\n",
    "            temp = temp.next\n",
    "\n",
    "        return temp\n",
    "    def remove_at(self, index):\n",
    "        if self.head is None:\n",
    "            return\n",
    "        \n",
    "        temp = self.head\n",
    "\n",
    "        if index == 0:\n",
    "            if self.head.next is None:\n",
    "                self.head = None\n",
    "            else:\n",
    "                self.head = self.head.next\n",
    "            return\n",
    "        \n",
    "        counter = 0\n",
    "        while temp is not None and counter < index:\n",
    "            prev = temp\n",
    "            temp = temp.next\n",
    "            counter += 1\n",
    "\n",
    "        prev.next = temp.next\n",
    "        temp = None\n",
    "    \n",
    "    def len(self):\n",
    "        count = 0\n",
    "        temp = self.head\n",
    "        while temp is not None: # or just while temp:\n",
    "            count += 1\n",
    "            temp = temp.next\n",
    "\n",
    "        return count\n",
    "\n",
    "    def __str__(self):\n",
    "        ret_str = '['\n",
    "        temp = self.head\n",
    "        \n",
    "        while temp is not None: # or just while temp:\n",
    "            ret_str += str(temp.val) + ', '\n",
    "            temp = temp.next\n",
    "        \n",
    "        ret_str = ret_str.rstrip(', ')\n",
    "        ret_str += ']'\n",
    "        return ret_str"
   ]
  },
  {
   "cell_type": "code",
   "execution_count": 34,
   "metadata": {},
   "outputs": [
    {
     "name": "stdout",
     "output_type": "stream",
     "text": [
      "[100, 200, 30, 40, 300]\n"
     ]
    }
   ],
   "source": [
    "l = LinkedList()\n",
    "l.push(100)\n",
    "l.push(200)\n",
    "l.push(30)\n",
    "l.push(40)\n",
    "l.push(300)\n",
    "print(l)"
   ]
  },
  {
   "cell_type": "markdown",
   "metadata": {},
   "source": [
    "# Minimum and Maximum values in a list"
   ]
  },
  {
   "cell_type": "code",
   "execution_count": 35,
   "metadata": {},
   "outputs": [],
   "source": [
    "def find_min(self):\n",
    "    if self.head is None: return None\n",
    "    \n",
    "    # min is first one to start with\n",
    "    l_min = self.head.val\n",
    "    l_min_i = 0\n",
    "    \n",
    "    temp = self.head.next\n",
    "    counter = 1 # keep track of counter\n",
    "    \n",
    "    while temp is not None:\n",
    "        if temp.val < l_min:\n",
    "            l_min = temp.val\n",
    "            l_min_i = counter\n",
    "        temp = temp.next\n",
    "        counter += 1\n",
    "        \n",
    "    return (l_min, l_min_i) # return both the coressponding index and the actual minimum value\n",
    "\n",
    "\n",
    "LinkedList.find_min = find_min"
   ]
  },
  {
   "cell_type": "code",
   "execution_count": 36,
   "metadata": {},
   "outputs": [
    {
     "name": "stdout",
     "output_type": "stream",
     "text": [
      "30 2\n"
     ]
    }
   ],
   "source": [
    "mini, _ = l.find_min()\n",
    "print(mini, _) # _ means function is returning value, but we don't need it yet."
   ]
  },
  {
   "cell_type": "markdown",
   "metadata": {},
   "source": [
    "# Remove the Minimum from a list"
   ]
  },
  {
   "cell_type": "code",
   "execution_count": 8,
   "metadata": {},
   "outputs": [],
   "source": [
    "def remove_min(self):\n",
    "    if self.head is None: return\n",
    "    l_min, l_min_i = self.find_min()\n",
    "    \n",
    "    self.remove_at(l_min_i)\n",
    "    \n",
    "LinkedList.remove_min = remove_min"
   ]
  },
  {
   "cell_type": "code",
   "execution_count": 9,
   "metadata": {},
   "outputs": [
    {
     "name": "stdout",
     "output_type": "stream",
     "text": [
      "[100, 200, 30, 40, 300]\n"
     ]
    }
   ],
   "source": [
    "print(l)"
   ]
  },
  {
   "cell_type": "code",
   "execution_count": 10,
   "metadata": {},
   "outputs": [
    {
     "name": "stdout",
     "output_type": "stream",
     "text": [
      "[100, 200, 40, 300]\n"
     ]
    }
   ],
   "source": [
    "l.remove_min()\n",
    "print(l)"
   ]
  },
  {
   "cell_type": "markdown",
   "metadata": {},
   "source": [
    "You can do the exact same thing for maximum instead of a minimum"
   ]
  },
  {
   "cell_type": "markdown",
   "metadata": {},
   "source": [
    "# FIND THIRD HIGHEST"
   ]
  },
  {
   "cell_type": "code",
   "execution_count": 11,
   "metadata": {},
   "outputs": [],
   "source": [
    "l = [101, 202, 303, 404, 5, 6, 10, 20, 1001]"
   ]
  },
  {
   "cell_type": "code",
   "execution_count": 12,
   "metadata": {},
   "outputs": [],
   "source": [
    "def find_three_highest(l):\n",
    "    if len(l) < 3: return None\n",
    "    \n",
    "    h1 = l[0]\n",
    "    h2 = l[0]\n",
    "    h3 = l[0]\n",
    "    \n",
    "    for i in l:\n",
    "        if i >= h1:\n",
    "            h3 = h2 # scootch over everybody !\n",
    "            h2 = h1\n",
    "            h1 = i\n",
    "            \n",
    "        elif i >= h2:\n",
    "            h3 = h2\n",
    "            h2 = i\n",
    "        \n",
    "        elif i >= h3:\n",
    "            h3 = i\n",
    "    return (h1, h2, h3)"
   ]
  },
  {
   "cell_type": "code",
   "execution_count": 13,
   "metadata": {},
   "outputs": [
    {
     "data": {
      "text/plain": [
       "(1001, 404, 303)"
      ]
     },
     "execution_count": 13,
     "metadata": {},
     "output_type": "execute_result"
    }
   ],
   "source": [
    "find_three_highest(l)"
   ]
  },
  {
   "cell_type": "code",
   "execution_count": 14,
   "metadata": {},
   "outputs": [],
   "source": [
    "def find_third_highest(l):\n",
    "    return find_three_highest(l)[2]"
   ]
  },
  {
   "cell_type": "code",
   "execution_count": 15,
   "metadata": {},
   "outputs": [
    {
     "data": {
      "text/plain": [
       "303"
      ]
     },
     "execution_count": 15,
     "metadata": {},
     "output_type": "execute_result"
    }
   ],
   "source": [
    "find_third_highest(l)"
   ]
  },
  {
   "cell_type": "markdown",
   "metadata": {},
   "source": [
    "# Reverse a Linked List"
   ]
  },
  {
   "cell_type": "markdown",
   "metadata": {},
   "source": [
    "This is an important interview question and good for logic building"
   ]
  },
  {
   "cell_type": "code",
   "execution_count": 16,
   "metadata": {},
   "outputs": [],
   "source": [
    "def rev_list(self):\n",
    "    # empty list or one element list is already reversed\n",
    "    if self.head is None: return\n",
    "    if self.head.next is None: return\n",
    "    \n",
    "    # at least two nodes\n",
    "    new_head = self._get_last()\n",
    "    processing = new_head\n",
    "    \n",
    "    for i in range(self.len() -1): # loop n-1 times\n",
    "        \n",
    "        temp = self.head\n",
    "        while temp.next != processing:\n",
    "            temp = temp.next\n",
    "        \n",
    "        processing.next = temp\n",
    "        # print(processing.val, \" -> \", temp.val)\n",
    "        processing = processing.next # move \" backwards\"\n",
    "        \n",
    "    self.head.next = None # this is now the tail\n",
    "    self.head = new_head\n",
    "\n",
    "LinkedList.rev_list = rev_list"
   ]
  },
  {
   "cell_type": "code",
   "execution_count": 17,
   "metadata": {},
   "outputs": [
    {
     "name": "stdout",
     "output_type": "stream",
     "text": [
      "[100, 200, 300, 40, 500]\n"
     ]
    }
   ],
   "source": [
    "l = LinkedList()\n",
    "l.push(100)\n",
    "l.push(200)\n",
    "l.push(300)\n",
    "l.push(40)\n",
    "l.push(500)\n",
    "\n",
    "print(l)"
   ]
  },
  {
   "cell_type": "code",
   "execution_count": 18,
   "metadata": {},
   "outputs": [
    {
     "name": "stdout",
     "output_type": "stream",
     "text": [
      "[500, 40, 300, 200, 100]\n"
     ]
    }
   ],
   "source": [
    "l.rev_list()\n",
    "print(l)"
   ]
  },
  {
   "cell_type": "markdown",
   "metadata": {},
   "source": [
    "# Reversing a Doubly\n",
    "\n",
    "Reversing a doubly connected linked list is easy! just set the prev to next and next to prev for all nodes! But make sure you keep track of head at the very beginning!"
   ]
  },
  {
   "cell_type": "markdown",
   "metadata": {},
   "source": [
    "# Most Common Value in a List\n",
    "\n",
    "we don't have to write the whole thing from scratch. We can use a data strucutre we already we have!"
   ]
  },
  {
   "cell_type": "code",
   "execution_count": 19,
   "metadata": {},
   "outputs": [
    {
     "name": "stdout",
     "output_type": "stream",
     "text": [
      "[{'age': 15}, {'age': 10}]\n"
     ]
    }
   ],
   "source": [
    "l = LinkedList()\n",
    "l.push({'age': 15})\n",
    "l.push({'age': 10})\n",
    "#l.push(3)\n",
    "#l.push(1)\n",
    "#l.push(1)\n",
    "#l.push(2)\n",
    "#l.push(500)\n",
    "#l.push('the')\n",
    "\n",
    "print(l)"
   ]
  },
  {
   "cell_type": "code",
   "execution_count": 20,
   "metadata": {},
   "outputs": [],
   "source": [
    "def get_counts(self):\n",
    "    from collections import Counter\n",
    "    cnt = Counter()\n",
    "    \n",
    "    temp = self.head\n",
    "    \n",
    "    while temp is not None:\n",
    "        to_count = temp.val['age']\n",
    "        cnt[to_count] += 1\n",
    "        temp = temp.next\n",
    "        \n",
    "    return cnt.most_common()\n",
    "\n",
    "LinkedList.get_counts = get_counts"
   ]
  },
  {
   "cell_type": "code",
   "execution_count": 21,
   "metadata": {},
   "outputs": [
    {
     "data": {
      "text/plain": [
       "[(15, 1), (10, 1)]"
      ]
     },
     "execution_count": 21,
     "metadata": {},
     "output_type": "execute_result"
    }
   ],
   "source": [
    "l.get_counts()"
   ]
  },
  {
   "cell_type": "code",
   "execution_count": 22,
   "metadata": {},
   "outputs": [
    {
     "data": {
      "text/plain": [
       "15"
      ]
     },
     "execution_count": 22,
     "metadata": {},
     "output_type": "execute_result"
    }
   ],
   "source": [
    "l.get_counts()[0][0] # and the most common one is on the top of this list"
   ]
  },
  {
   "cell_type": "markdown",
   "metadata": {},
   "source": [
    "# Append One List to Another\n",
    "\n",
    "If you think before you leap, this is quite easy too."
   ]
  },
  {
   "cell_type": "code",
   "execution_count": 23,
   "metadata": {},
   "outputs": [
    {
     "name": "stdout",
     "output_type": "stream",
     "text": [
      "[1, 2, 3]\n",
      "[4, 5, 6]\n"
     ]
    }
   ],
   "source": [
    "l = LinkedList()\n",
    "l.push(1)\n",
    "l.push(2)\n",
    "l.push(3)\n",
    "\n",
    "print(l)\n",
    "\n",
    "m = LinkedList()\n",
    "m.push(4)\n",
    "m.push(5)\n",
    "m.push(6)\n",
    "print(m)"
   ]
  },
  {
   "cell_type": "code",
   "execution_count": 24,
   "metadata": {},
   "outputs": [],
   "source": [
    "def append_list(self, lst):\n",
    "    if self.head is None:\n",
    "        self.head = lst.head\n",
    "        \n",
    "    last = self._get_last()\n",
    "    last.next = lst.head\n",
    "\n",
    "LinkedList.append_list = append_list"
   ]
  },
  {
   "cell_type": "code",
   "execution_count": 25,
   "metadata": {},
   "outputs": [],
   "source": [
    "l.append_list(m)"
   ]
  },
  {
   "cell_type": "code",
   "execution_count": 26,
   "metadata": {},
   "outputs": [
    {
     "name": "stdout",
     "output_type": "stream",
     "text": [
      "[1, 2, 3, 4, 5, 6]\n"
     ]
    }
   ],
   "source": [
    "print(l)"
   ]
  },
  {
   "cell_type": "code",
   "execution_count": 27,
   "metadata": {},
   "outputs": [
    {
     "name": "stdout",
     "output_type": "stream",
     "text": [
      "[4, 5, 6]\n"
     ]
    }
   ],
   "source": [
    "print(m)"
   ]
  },
  {
   "cell_type": "code",
   "execution_count": 28,
   "metadata": {},
   "outputs": [
    {
     "name": "stdout",
     "output_type": "stream",
     "text": [
      "case 2\n"
     ]
    },
    {
     "data": {
      "text/plain": [
       "6"
      ]
     },
     "execution_count": 28,
     "metadata": {},
     "output_type": "execute_result"
    }
   ],
   "source": [
    "m.pop()"
   ]
  },
  {
   "cell_type": "code",
   "execution_count": 29,
   "metadata": {},
   "outputs": [
    {
     "name": "stdout",
     "output_type": "stream",
     "text": [
      "[1, 2, 3, 4, 5]\n"
     ]
    }
   ],
   "source": [
    "print(l) # this might or not what you want to do !"
   ]
  },
  {
   "cell_type": "markdown",
   "metadata": {},
   "source": [
    "# Perform an Operation Over All elements of a List\n",
    "\n",
    "This might seem obvious but it's extremely important !"
   ]
  },
  {
   "cell_type": "code",
   "execution_count": 30,
   "metadata": {},
   "outputs": [],
   "source": [
    "def some_op(self, fn):\n",
    "    temp = self.head\n",
    "    \n",
    "    while temp is not None:\n",
    "        print(fn(temp.val))\n",
    "        temp = temp.next\n",
    "    \n",
    "LinkedList.some_op = some_op"
   ]
  },
  {
   "cell_type": "code",
   "execution_count": 31,
   "metadata": {},
   "outputs": [
    {
     "name": "stdout",
     "output_type": "stream",
     "text": [
      "1.0\n",
      "1.4142135623730951\n",
      "1.7320508075688772\n",
      "2.0\n",
      "2.23606797749979\n"
     ]
    }
   ],
   "source": [
    "from math import sqrt\n",
    "l.some_op(sqrt)"
   ]
  },
  {
   "cell_type": "code",
   "execution_count": null,
   "metadata": {},
   "outputs": [],
   "source": []
  }
 ],
 "metadata": {
  "kernelspec": {
   "display_name": "Python 3",
   "language": "python",
   "name": "python3"
  },
  "language_info": {
   "codemirror_mode": {
    "name": "ipython",
    "version": 3
   },
   "file_extension": ".py",
   "mimetype": "text/x-python",
   "name": "python",
   "nbconvert_exporter": "python",
   "pygments_lexer": "ipython3",
   "version": "3.8.5"
  }
 },
 "nbformat": 4,
 "nbformat_minor": 4
}
